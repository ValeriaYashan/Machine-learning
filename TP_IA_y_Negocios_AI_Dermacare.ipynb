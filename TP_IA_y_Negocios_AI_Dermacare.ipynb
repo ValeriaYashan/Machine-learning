{
  "nbformat": 4,
  "nbformat_minor": 0,
  "metadata": {
    "colab": {
      "provenance": [],
      "gpuType": "T4",
      "authorship_tag": "ABX9TyNz3Omhjtfgoh/ELpdkyeVe",
      "include_colab_link": true
    },
    "kernelspec": {
      "name": "python3",
      "display_name": "Python 3"
    },
    "language_info": {
      "name": "python"
    },
    "accelerator": "GPU"
  },
  "cells": [
    {
      "cell_type": "markdown",
      "metadata": {
        "id": "view-in-github",
        "colab_type": "text"
      },
      "source": [
        "<a href=\"https://colab.research.google.com/github/ValeriaYashan/Machine-learning/blob/main/TP_IA_y_Negocios_AI_Dermacare.ipynb\" target=\"_parent\"><img src=\"https://colab.research.google.com/assets/colab-badge.svg\" alt=\"Open In Colab\"/></a>"
      ]
    },
    {
      "cell_type": "markdown",
      "source": [
        "**TRABAJO FINAL INTELIGENCIA ARTIFICIAL Y NEGOCIOS**\n",
        "\n",
        "\n",
        "\n",
        "**TÍTULO:AI Dermacare **"
      ],
      "metadata": {
        "id": "5SeemPU35CPw"
      }
    },
    {
      "cell_type": "markdown",
      "source": [
        "**Idea de Negocio:** Empresa de Productos para el Cuidado de la Piel Personalizados para Adolescentes con Énfasis en Ingredientes Naturales\n",
        "\n",
        "**Introducción:**\n",
        "El mercado de productos para el cuidado de la piel está experimentando un cambio significativo hacia la demanda de productos más naturales y personalizados. Este cambio se ve impulsado por la creciente conciencia sobre los posibles riesgos asociados con los productos químicos presentes en los productos de cuidado personal convencionales. En este contexto, surge la oportunidad de dirigirse a un segmento específico del mercado: personas preocupadas por el uso de productos químicos desconocidos en los productos para el cuidado de la piel. Esta idea de negocio se centra en ofrecer productos para el cuidado de la piel personalizados que aborden las preocupaciones de seguridad y salud de este público objetivo.\n",
        "\n",
        "**Justificación:**\n",
        "\n",
        "**Tendencia hacia lo natural y personalizado:** Existe una creciente tendencia hacia los productos de cuidado de la piel naturales y personalizados, impulsada por la demanda de los consumidores conscientes de la salud. Este segmento de mercado valora los ingredientes naturales y busca alternativas a los productos convencionales que puedan contener productos químicos nocivos.\n",
        "\n",
        "**Preocupaciones sobre la salud de la piel adolescente: **Durante la adolescencia, muchos individuos experimentan problemas de piel sensible o reactiva, lo que puede ser exacerbado por el uso de productos de cuidado de la piel que contienen productos químicos agresivos. Las madres están particularmente preocupadas por la salud y bienestar de la piel de sus hijos durante esta etapa crucial del desarrollo.\n",
        "\n",
        "**Énfasis en la seguridad y bienestar:** La preocupación por la seguridad y el bienestar personal está en aumento, especialmente entre los consumidores más jóvenes. Ofrecer productos de cuidado de la piel que sean seguros, naturales y respetuosos con el medio ambiente puede atraer a esta audiencia preocupada por la salud y la sostenibilidad.\n",
        "\n",
        "**Educación y conciencia:** Al ofrecer productos de cuidado de la piel personalizados y naturales, se puede educar a los consumidores sobre la importancia de elegir productos que sean seguros y beneficiosos para la piel. Esto puede ayudar a aumentar la conciencia sobre los riesgos asociados con los productos químicos presentes en los productos convencionales y promover un estilo de vida más saludable y consciente.\n",
        "\n",
        "**Conclusiones:**\n",
        "En un mercado cada vez más competitivo y centrado en el consumidor, la diferenciación y la *atención a las necesidades específicas del cliente* son clave para el éxito empresarial. Dirigirse a adolescentes preocupados por la salud de su piel y a sus madres ofrece una oportunidad única para satisfacer una demanda creciente de productos de cuidado de la piel personalizados y naturales. Al abordar estas preocupaciones y ofrecer soluciones efectivas, esta idea de negocio tiene el potencial de establecerse como una empresa líder en el mercado de productos para el cuidado de la piel."
      ],
      "metadata": {
        "id": "w3feLvNu6oPR"
      }
    },
    {
      "cell_type": "code",
      "source": [
        "def mostrar_enlace(nombre, url):\n",
        "    from IPython.display import HTML\n",
        "    display(HTML(f'<p><a href=\"{url}\" target=\"_blank\">{nombre}</a>: {url}</p>'))\n",
        "\n",
        "# Datos de las empresas y sus URLs\n",
        "empresas = {\n",
        "    \"Curology\": \"https://curology.com/\",\n",
        "    \"Proven\": \"https://www.provenskincare.com/\",\n",
        "    \"Skinsei\": \"https://www.skinsei.com/\",\n",
        "    \"Function of Beauty\": \"https://www.functionofbeauty.com/\",\n",
        "    \"Y'OUR\": \"https://www.yourskincare.com/\",\n",
        "    \"Syngular\": \"https://www.tienda.syngular.com.ar/\",\n",
        "    \"Valquer\": \"https://www.valquer.com/\"\n",
        "}\n",
        "\n",
        "# Muestra el título\n",
        "from IPython.display import display, Markdown\n",
        "display(Markdown('# Empresas que inspiran el proyecto'))\n",
        "\n",
        "# Muestra los enlaces de las empresas\n",
        "for nombre, url in empresas.items():\n",
        "    mostrar_enlace(nombre, url)"
      ],
      "metadata": {
        "colab": {
          "base_uri": "https://localhost:8080/",
          "height": 240
        },
        "id": "ZFmCv6QE5DN4",
        "outputId": "b6824338-26cc-4641-99d3-2530b6dfce60"
      },
      "execution_count": 115,
      "outputs": [
        {
          "output_type": "display_data",
          "data": {
            "text/plain": [
              "<IPython.core.display.Markdown object>"
            ],
            "text/markdown": "# Empresas que inspiran el proyecto"
          },
          "metadata": {}
        },
        {
          "output_type": "display_data",
          "data": {
            "text/plain": [
              "<IPython.core.display.HTML object>"
            ],
            "text/html": [
              "<p><a href=\"https://curology.com/\" target=\"_blank\">Curology</a>: https://curology.com/</p>"
            ]
          },
          "metadata": {}
        },
        {
          "output_type": "display_data",
          "data": {
            "text/plain": [
              "<IPython.core.display.HTML object>"
            ],
            "text/html": [
              "<p><a href=\"https://www.provenskincare.com/\" target=\"_blank\">Proven</a>: https://www.provenskincare.com/</p>"
            ]
          },
          "metadata": {}
        },
        {
          "output_type": "display_data",
          "data": {
            "text/plain": [
              "<IPython.core.display.HTML object>"
            ],
            "text/html": [
              "<p><a href=\"https://www.skinsei.com/\" target=\"_blank\">Skinsei</a>: https://www.skinsei.com/</p>"
            ]
          },
          "metadata": {}
        },
        {
          "output_type": "display_data",
          "data": {
            "text/plain": [
              "<IPython.core.display.HTML object>"
            ],
            "text/html": [
              "<p><a href=\"https://www.functionofbeauty.com/\" target=\"_blank\">Function of Beauty</a>: https://www.functionofbeauty.com/</p>"
            ]
          },
          "metadata": {}
        },
        {
          "output_type": "display_data",
          "data": {
            "text/plain": [
              "<IPython.core.display.HTML object>"
            ],
            "text/html": [
              "<p><a href=\"https://www.yourskincare.com/\" target=\"_blank\">Y'OUR</a>: https://www.yourskincare.com/</p>"
            ]
          },
          "metadata": {}
        },
        {
          "output_type": "display_data",
          "data": {
            "text/plain": [
              "<IPython.core.display.HTML object>"
            ],
            "text/html": [
              "<p><a href=\"https://www.tienda.syngular.com.ar/\" target=\"_blank\">Syngular</a>: https://www.tienda.syngular.com.ar/</p>"
            ]
          },
          "metadata": {}
        },
        {
          "output_type": "display_data",
          "data": {
            "text/plain": [
              "<IPython.core.display.HTML object>"
            ],
            "text/html": [
              "<p><a href=\"https://www.valquer.com/\" target=\"_blank\">Valquer</a>: https://www.valquer.com/</p>"
            ]
          },
          "metadata": {}
        }
      ]
    },
    {
      "cell_type": "markdown",
      "source": [
        "** Utilización de Inteligencia Artificial para la Personalización de Productos de Cuidado de la Piel**\n",
        "\n",
        "En este proyecto, aprovecharemos herramientas avanzadas de inteligencia artificial (IA) para ofrecer productos de cuidado de la piel personalizados y naturales, dirigidos a adolescentes(cuyas madres están preocupadas por el uso de productos químicos durante su crecimiento). Utilizaremos algoritmos de análisis de datos de la piel para comprender las necesidades individuales de los clientes, recomendar ingredientes naturales específicos y formular productos personalizados. Además, implementaremos sistemas de seguimiento continuo y asistencia virtual para optimizar la experiencia del cliente y garantizar resultados efectivos a largo plazo. Este enfoque basado en IA nos permitirá diferenciarnos en el mercado al ofrecer soluciones de cuidado de la piel adaptadas y efectivas."
      ],
      "metadata": {
        "id": "PRXMtcEW7604"
      }
    },
    {
      "cell_type": "markdown",
      "source": [
        "MODELO DE MACHINE LEARNING"
      ],
      "metadata": {
        "id": "-DbtDm7m6m3D"
      }
    },
    {
      "cell_type": "code",
      "source": [
        "# Importamos las librerías necesarias para el modelo\n",
        "import pandas as pd\n",
        "from sklearn.model_selection import train_test_split  # Para dividir los datos en conjuntos de entrenamiento y prueba\n",
        "from sklearn.ensemble import RandomForestClassifier  # Para crear y entrenar el modelo de clasificación\n",
        "from sklearn.metrics import accuracy_score,precision_score, recall_score, roc_auc_score #para evaluar el modelo  # Para evaluar la precisión del modelo\n",
        "import csv  # Para trabajar con archivos CSV\n",
        "from sklearn.model_selection import GridSearchCV  # Importar la clase GridSearchCV\n",
        "#GridSearchCV es una herramienta muy útil para encontrar los mejores hiperparámetros para un modelo de aprendizaje automático a través de la búsqueda exhaustiva y la validación cruzada.\n",
        "#Esto ayuda a optimizar el rendimiento del modelo y a evitar el sobreajuste a los datos de entrenamiento.\n",
        "import sqlite3\n",
        "import random\n",
        "import numpy as np\n",
        "import seaborn as sns\n",
        "import matplotlib.pyplot as plt\n",
        "from sklearn.metrics import confusion_matrix, classification_report"
      ],
      "metadata": {
        "id": "N5sw-hwM9CGh"
      },
      "execution_count": 116,
      "outputs": []
    },
    {
      "cell_type": "markdown",
      "source": [
        "Voy a utilizar un enfoque basado en aprendizaje automático para recomendar cremas en función de las respuestas de los clientes puede ser muy efectivo.\n",
        "\n",
        "**Recopilación de datos:** Comienza recopilando datos sobre las preferencias de los clientes y las características de las cremas. Esto puede incluir información como el tipo de piel del cliente (seca, grasa, mixta), preocupaciones específicas (arrugas, manchas, acné), ingredientes preferidos o evitados, y la efectividad percibida de las cremas anteriores.\n",
        "\n",
        "**Selección de características relevantes: **Identifica las características más relevantes que puedan influir en la recomendación de la crema. Pueden incluir características de la piel, ingredientes, precio, comentarios de los clientes, etc.\n",
        "\n",
        "**Entrenamiento del modelo:** Utiliza algoritmos de aprendizaje automático, como clasificación o regresión, para entrenar un modelo con los datos recopilados. Puedes probar diferentes algoritmos y técnicas de aprendizaje automático, como árboles de decisión, bosques aleatorios, máquinas de vectores de soporte (SVM) o redes neuronales, para encontrar el que mejor se ajuste a tus datos y objetivos.\n",
        "\n",
        "**Validación del modelo:** Evalúa el rendimiento del modelo utilizando técnicas de validación cruzada u otras métricas relevantes, como precisión, recall, F1-score, etc. Asegúrate de que el modelo esté generalizando bien y no esté sobreajustando los datos de entrenamiento.\n",
        "\n",
        "**Implementación del sistema de recomendación: **Una vez que tengas un modelo entrenado y validado, puedes implementarlo en tu plataforma de recomendación de productos. Los clientes pueden proporcionar sus respuestas a través de un cuestionario en línea, y el modelo puede generar recomendaciones personalizadas en función de esas respuestas.\n",
        "\n",
        "**Optimización continua:** Continúa recopilando datos y actualizando tu modelo periódicamente para mejorar su precisión y relevancia en las recomendaciones de cremas."
      ],
      "metadata": {
        "id": "3AN167nqNK59"
      }
    },
    {
      "cell_type": "markdown",
      "source": [
        "RECOPILACIÓN DE DATOS Y CREACIÓN DE ARCHIVOS"
      ],
      "metadata": {
        "id": "HHK6MXxtQB3Q"
      }
    },
    {
      "cell_type": "code",
      "source": [
        "# Establecer conexión con la base de datos (o crearla si no existe)\n",
        "conn = sqlite3.connect('encuesta_cremas.db')\n",
        "c = conn.cursor()\n",
        "\n",
        "# Crear tabla para almacenar las respuestas si no existe\n",
        "c.execute('''CREATE TABLE IF NOT EXISTS respuestas (\n",
        "                nombre TEXT,\n",
        "                edad INTEGER,\n",
        "                genero TEXT,\n",
        "                tipo_piel TEXT,\n",
        "                preocupaciones TEXT,\n",
        "                ingredientes_preferidos TEXT,\n",
        "                ingredientes_evitados TEXT,\n",
        "                efectividad INTEGER\n",
        "            )''')\n",
        "\n",
        "# Lista de posibles respuestas para cada campo\n",
        "nombres = ['Juan', 'María', 'Pedro', 'Ana', 'Luisa', 'Carlos', 'Laura']\n",
        "generos = ['Masculino', 'Femenino']\n",
        "tipos_piel = ['Seca', 'Grasa', 'Mixta', 'Sensible']\n",
        "preocupaciones = ['Arrugas', 'Manchas', 'Acné', 'Sensibilidad']\n",
        "ingredientes_preferidos = ['Ácido hialurónico', 'Vitamina C', 'Retinol', 'Colágeno']\n",
        "ingredientes_evitados = ['Parabenos', 'Fragancias', 'Alcohol', 'Aceites minerales']\n",
        "efectividades = [1, 2, 3, 4, 5]\n",
        "\n",
        "# Completar con datos aleatorios hasta alcanzar 100 registros\n",
        "for _ in range(100):\n",
        "    nombre = random.choice(nombres)\n",
        "    edad = random.choice([random.randint(12, 15), random.randint(16, 21)])  # Rango de edad entre 12-15 o 16-21\n",
        "    genero = random.choice(generos)\n",
        "    tipo_piel = random.choice(tipos_piel)\n",
        "    preocupacion = random.choice(preocupaciones)\n",
        "    ingrediente_pref = random.choice(ingredientes_preferidos)\n",
        "    ingrediente_evit = random.choice(ingredientes_evitados)\n",
        "    efectividad = random.choice(efectividades)\n",
        "\n",
        "    # Insertar respuestas en la base de datos\n",
        "    c.execute('''INSERT INTO respuestas VALUES (?, ?, ?, ?, ?, ?, ?, ?)''',\n",
        "                (nombre, edad, genero, tipo_piel, preocupacion, ingrediente_pref, ingrediente_evit, efectividad))\n",
        "\n",
        "# Guardar cambios y cerrar conexión\n",
        "conn.commit()\n",
        "conn.close()\n",
        "\n",
        "print('Se han completado con éxito los registros aleatorios en la base de datos.')"
      ],
      "metadata": {
        "colab": {
          "base_uri": "https://localhost:8080/"
        },
        "id": "4At2gb4TOl4m",
        "outputId": "ffe492f7-1dca-4828-d6fa-3b891e90c2c8"
      },
      "execution_count": 117,
      "outputs": [
        {
          "output_type": "stream",
          "name": "stdout",
          "text": [
            "Se han completado con éxito los registros aleatorios en la base de datos.\n"
          ]
        }
      ]
    },
    {
      "cell_type": "code",
      "source": [
        "# Establecer conexión con la base de datos\n",
        "conn = sqlite3.connect('encuesta_cremas.db')\n",
        "\n",
        "# Leer los datos de la tabla respuestas en un DataFrame de pandas\n",
        "data = pd.read_sql_query(\"SELECT * FROM respuestas\", conn)\n",
        "\n",
        "# Mostrar los datos en una tabla\n",
        "print(data)\n",
        "\n",
        "# Cerrar la conexión con la base de datos\n",
        "conn.close()"
      ],
      "metadata": {
        "colab": {
          "base_uri": "https://localhost:8080/"
        },
        "id": "motrnK6sXOD5",
        "outputId": "81f83b75-89c4-4a1d-85eb-e5a5279f6cb1"
      },
      "execution_count": 118,
      "outputs": [
        {
          "output_type": "stream",
          "name": "stdout",
          "text": [
            "      nombre  edad     genero tipo_piel preocupaciones  \\\n",
            "0    Valeria    45   Femenino     Mixta        Arrugas   \n",
            "1      María    50   Femenino  Sensible           Acné   \n",
            "2      Luisa    32  Masculino      Seca           Acné   \n",
            "3        Ana    45   Femenino     Mixta   Sensibilidad   \n",
            "4      María    68   Femenino     Grasa   Sensibilidad   \n",
            "..       ...   ...        ...       ...            ...   \n",
            "595   Carlos    13   Femenino  Sensible        Manchas   \n",
            "596    Laura    16  Masculino      Seca        Arrugas   \n",
            "597    Laura    12  Masculino     Grasa   Sensibilidad   \n",
            "598    Laura    18  Masculino     Grasa        Arrugas   \n",
            "599    María    12   Femenino  Sensible        Arrugas   \n",
            "\n",
            "    ingredientes_preferidos ingredientes_evitados  efectividad  \n",
            "0                vitamina C             parabenos            1  \n",
            "1                   Retinol               Alcohol            2  \n",
            "2                   Retinol            Fragancias            4  \n",
            "3                Vitamina C             Parabenos            2  \n",
            "4                   Retinol             Parabenos            3  \n",
            "..                      ...                   ...          ...  \n",
            "595              Vitamina C               Alcohol            4  \n",
            "596              Vitamina C            Fragancias            5  \n",
            "597                 Retinol     Aceites minerales            3  \n",
            "598                 Retinol               Alcohol            2  \n",
            "599              Vitamina C            Fragancias            2  \n",
            "\n",
            "[600 rows x 8 columns]\n"
          ]
        }
      ]
    },
    {
      "cell_type": "code",
      "source": [
        "# Creo archivos CSV\n",
        "\n",
        "# Datos de ingredientes y beneficios\n",
        "ingredientes = [\n",
        "    [\"Aloe Vera\", \"Hidratante\", \"Antiinflamatorio\"],\n",
        "    [\"Aceite de Coco\", \"Hidratante\", \"Antibacteriano\"],\n",
        "    [\"Aceite de Jojoba\", \"Hidratante\", \"Regula la producción de sebo\"]\n",
        "]\n",
        "\n",
        "beneficios = [\"Hidratación\", \"Control de la grasa\", \"Regeneración celular\"]\n",
        "\n",
        "# Escribir datos en un archivo CSV\n",
        "with open('ingredientes.csv', mode='w', newline='') as file:\n",
        "    writer = csv.writer(file)\n",
        "    # Escribir la cabecera\n",
        "    writer.writerow(['Ingrediente', 'Propiedad', 'Beneficio'])\n",
        "    # Escribir los datos de ingredientes y beneficios\n",
        "    for i in range(len(ingredientes)):\n",
        "        writer.writerow([ingredientes[i][0], ingredientes[i][1], beneficios[i]])"
      ],
      "metadata": {
        "id": "Z4dWZZOz9TAC"
      },
      "execution_count": 119,
      "outputs": []
    },
    {
      "cell_type": "code",
      "source": [
        "# Datos de ejemplo de las recetas de crema\n",
        "recetas = [\n",
        "    {\"Nombre\": \"Crema Hidratante\", \"Composición\": \"Aloe Vera, Aceite de Coco\", \"Concentración\": \"10%, 5%\", \"Compatibilidad\": \"Alta\", \"Propiedades\": \"Hidratante, antiinflamatorio, antibacteriano\"},\n",
        "    {\"Nombre\": \"Crema Antienvejecimiento\", \"Composición\": \"Aceite de Rosa Mosqueta, Vitamina E\", \"Concentración\": \"8%, 2%\", \"Compatibilidad\": \"Media\", \"Propiedades\": \"Regeneradora, antioxidante\"},\n",
        "    {\"Nombre\": \"Crema Anti-Acné\", \"Composición\": \"Arcilla Verde, Aceite de Árbol de Té\", \"Concentración\": \"5%, 3%\", \"Compatibilidad\": \"Alta\", \"Propiedades\": \"Absorbente, antibacteriano, antiinflamatorio\"}\n",
        "]\n",
        "\n",
        "# Nombre del archivo CSV\n",
        "nombre_archivo = \"recetas_crema.csv\"\n",
        "\n",
        "# Escribir los datos en el archivo CSV\n",
        "with open(nombre_archivo, mode='w', newline='', encoding='utf-8') as archivo_csv:\n",
        "    campos = [\"Nombre\", \"Composición\", \"Concentración\", \"Compatibilidad\", \"Propiedades\"]\n",
        "    escritor_csv = csv.DictWriter(archivo_csv, fieldnames=campos)\n",
        "\n",
        "    # Escribir encabezados\n",
        "    escritor_csv.writeheader()\n",
        "\n",
        "    # Escribir datos de recetas\n",
        "    for receta in recetas:\n",
        "        escritor_csv.writerow(receta)\n",
        "\n",
        "print(f\"Se ha creado el archivo CSV '{nombre_archivo}' con las recetas de crema.\")"
      ],
      "metadata": {
        "colab": {
          "base_uri": "https://localhost:8080/"
        },
        "id": "4dMFXqhHDH3Z",
        "outputId": "5350c25d-145f-49b2-f1b4-f4d9c45aa1f1"
      },
      "execution_count": 120,
      "outputs": [
        {
          "output_type": "stream",
          "name": "stdout",
          "text": [
            "Se ha creado el archivo CSV 'recetas_crema.csv' con las recetas de crema.\n"
          ]
        }
      ]
    },
    {
      "cell_type": "code",
      "source": [
        "# Definir los datos de ingredientes y beneficios\n",
        "ingredientes = [\n",
        "    [\"Aloe Vera\", \"Hidratante\", \"Antiinflamatorio\"],\n",
        "    [\"Aceite de Coco\", \"Hidratante\", \"Antibacteriano\"],\n",
        "    [\"Aceite de Jojoba\", \"Hidratante\", \"Regula la producción de sebo\"],\n",
        "]\n",
        "\n",
        "beneficios = [\"Hidratación\", \"Control de la grasa\", \"Regeneración celular\"]\n",
        "\n",
        "# Añadir más datos de entrenamiento para alcanzar un total de 100\n",
        "num_datos_extra = 100 - len(ingredientes)\n",
        "ingredientes_extra = [\n",
        "    [\"Ingrediente \" + str(i), \"Propiedad \" + str(i), \"Beneficio \" + str(i)]\n",
        "    for i in range(num_datos_extra)\n",
        "]\n",
        "beneficios_extra = [\"Hidratación\"] * num_datos_extra\n",
        "\n",
        "ingredientes.extend(ingredientes_extra)\n",
        "beneficios.extend(beneficios_extra)\n",
        "\n",
        "# Escribir datos en un archivo CSV\n",
        "with open('ingredientes.csv', mode='w', newline='') as file:\n",
        "    writer = csv.writer(file)\n",
        "    writer.writerow(['Ingrediente', 'Propiedad', 'Beneficio'])\n",
        "    for i in range(len(ingredientes)):\n",
        "        writer.writerow([ingredientes[i][0], ingredientes[i][1], beneficios[i]])\n",
        "\n",
        "print(\"Archivo CSV generado exitosamente con 100 datos de entrenamiento creados aleatoriamente.\")\n"
      ],
      "metadata": {
        "colab": {
          "base_uri": "https://localhost:8080/"
        },
        "id": "6mly4WPr9IuT",
        "outputId": "b2030582-6fd4-4759-ba74-1d86e06d5b5d"
      },
      "execution_count": 121,
      "outputs": [
        {
          "output_type": "stream",
          "name": "stdout",
          "text": [
            "Archivo CSV generado exitosamente con 100 datos de entrenamiento creados aleatoriamente.\n"
          ]
        }
      ]
    },
    {
      "cell_type": "code",
      "source": [
        "# Datos de ejemplo de las recetas de crema\n",
        "recetas = [\n",
        "    {\"Nombre\": \"Crema Hidratante\", \"Composición\": \"Aloe Vera, Aceite de Coco\", \"Concentración\": \"10%, 5%\", \"Compatibilidad\": \"Alta\", \"Propiedades\": \"Hidratante, antiinflamatorio, antibacteriano\"},\n",
        "    {\"Nombre\": \"Crema Antienvejecimiento\", \"Composición\": \"Aceite de Rosa Mosqueta, Vitamina E\", \"Concentración\": \"8%, 2%\", \"Compatibilidad\": \"Media\", \"Propiedades\": \"Regeneradora, antioxidante\"},\n",
        "    {\"Nombre\": \"Crema Anti-Acné\", \"Composición\": \"Arcilla Verde, Aceite de Árbol de Té\", \"Concentración\": \"5%, 3%\", \"Compatibilidad\": \"Alta\", \"Propiedades\": \"Absorbente, antibacteriano, antiinflamatorio\"}\n",
        "]\n",
        "\n",
        "# Nombre comercial de las recetas\n",
        "nombres_comerciales = [\"BellezaPlus\", \"JuventudEterna\", \"PielRadiante\", \"FrescuraNatural\", \"GlowSkin\", \"EternaJuventud\", \"BellezaRenovada\", \"PielSana\", \"BellezaInmediata\", \"EfectoJuvenil\"]\n",
        "\n",
        "# Nombre del archivo CSV\n",
        "nombre_archivo = \"recetas_crema.csv\"\n",
        "\n",
        "# Agregar \"Nombre Comercial\" a la lista de campos\n",
        "campos = [\"Nombre\", \"Nombre Comercial\", \"Composición\", \"Concentración\", \"Compatibilidad\", \"Propiedades\"]\n",
        "\n",
        "# Escribir los datos en el archivo CSV\n",
        "with open(nombre_archivo, mode='w', newline='', encoding='utf-8') as archivo_csv:\n",
        "    escritor_csv = csv.DictWriter(archivo_csv, fieldnames=campos)\n",
        "\n",
        "    # Escribir encabezados\n",
        "    escritor_csv.writeheader()\n",
        "\n",
        "    # Escribir datos de recetas\n",
        "    for receta in recetas:\n",
        "        receta[\"Nombre Comercial\"] = random.choice(nombres_comerciales)\n",
        "        escritor_csv.writerow(receta)\n",
        "\n",
        "print(f\"Se ha creado el archivo CSV '{nombre_archivo}' con las recetas de crema.\")"
      ],
      "metadata": {
        "colab": {
          "base_uri": "https://localhost:8080/"
        },
        "id": "YLWxe9Ksg76-",
        "outputId": "8e4cbc51-cd2f-4db4-f1e1-80c58c094f87"
      },
      "execution_count": 133,
      "outputs": [
        {
          "output_type": "stream",
          "name": "stdout",
          "text": [
            "Se ha creado el archivo CSV 'recetas_crema.csv' con las recetas de crema.\n"
          ]
        }
      ]
    },
    {
      "cell_type": "code",
      "source": [
        "# Leer el archivo CSV con las recetas de crema\n",
        "df_recetas = pd.read_csv(\"recetas_crema.csv\")\n",
        "\n",
        "# Mostrar la tabla de recetas\n",
        "print(\"Tabla de Recetas de Crema:\")\n",
        "print(df_recetas)"
      ],
      "metadata": {
        "colab": {
          "base_uri": "https://localhost:8080/"
        },
        "id": "HlJl1riXhPVX",
        "outputId": "27a30d7c-483d-4887-fa0c-2d3c9c45ef08"
      },
      "execution_count": 123,
      "outputs": [
        {
          "output_type": "stream",
          "name": "stdout",
          "text": [
            "Tabla de Recetas de Crema:\n",
            "                     Nombre Nombre Comercial  \\\n",
            "0          Crema Hidratante   JuventudEterna   \n",
            "1  Crema Antienvejecimiento    EfectoJuvenil   \n",
            "2           Crema Anti-Acné   EternaJuventud   \n",
            "\n",
            "                            Composición Concentración Compatibilidad  \\\n",
            "0             Aloe Vera, Aceite de Coco       10%, 5%           Alta   \n",
            "1   Aceite de Rosa Mosqueta, Vitamina E        8%, 2%          Media   \n",
            "2  Arcilla Verde, Aceite de Árbol de Té        5%, 3%           Alta   \n",
            "\n",
            "                                    Propiedades  \n",
            "0  Hidratante, antiinflamatorio, antibacteriano  \n",
            "1                    Regeneradora, antioxidante  \n",
            "2  Absorbente, antibacteriano, antiinflamatorio  \n"
          ]
        }
      ]
    },
    {
      "cell_type": "code",
      "source": [
        "# Conexión a la base de datos (creará un nuevo archivo si no existe)\n",
        "conexion = sqlite3.connect('recetas_ingredientes.db')\n",
        "cursor = conexion.cursor()\n",
        "\n",
        "# Crear tabla para recetas de crema\n",
        "cursor.execute('''CREATE TABLE IF NOT EXISTS recetas_crema (\n",
        "                    id INTEGER PRIMARY KEY,\n",
        "                    nombre TEXT,\n",
        "                    propiedad TEXT\n",
        "                )''')\n",
        "\n",
        "# Crear tabla para ingredientes\n",
        "cursor.execute('''CREATE TABLE IF NOT EXISTS ingredientes (\n",
        "                    id INTEGER PRIMARY KEY,\n",
        "                    nombre TEXT,\n",
        "                    propiedad TEXT\n",
        "                )''')\n",
        "\n",
        "# Insertar datos de ejemplo en la tabla recetas_crema\n",
        "cursor.execute(\"INSERT INTO recetas_crema (nombre, propiedad) VALUES (?, ?)\", ('Crema Hidratante', 'Hidratación'))\n",
        "cursor.execute(\"INSERT INTO recetas_crema (nombre, propiedad) VALUES (?, ?)\", ('Crema Antiarrugas', 'Anti-envejecimiento'))\n",
        "\n",
        "# Insertar datos de ejemplo en la tabla ingredientes\n",
        "cursor.execute(\"INSERT INTO ingredientes (nombre, propiedad) VALUES (?, ?)\", ('Ácido hialurónico', 'Hidratación'))\n",
        "cursor.execute(\"INSERT INTO ingredientes (nombre, propiedad) VALUES (?, ?)\", ('Retinol', 'Anti-envejecimiento'))\n",
        "\n",
        "# Guardar cambios y cerrar conexión\n",
        "conexion.commit()\n",
        "conexion.close()\n",
        "\n",
        "print('Se han completado con éxito los registros en la base de datos.')"
      ],
      "metadata": {
        "colab": {
          "base_uri": "https://localhost:8080/"
        },
        "id": "S7gHtBGwftKG",
        "outputId": "0cd69ff6-d593-4dba-8bcd-b98cb8cadecf"
      },
      "execution_count": 124,
      "outputs": [
        {
          "output_type": "stream",
          "name": "stdout",
          "text": [
            "Se han completado con éxito los registros en la base de datos.\n"
          ]
        }
      ]
    },
    {
      "cell_type": "code",
      "source": [
        "# Conexión a la base de datos\n",
        "conexion = sqlite3.connect('recetas_ingredientes.db')\n",
        "\n",
        "# Consultar los datos de la tabla recetas_crema\n",
        "df_recetas = pd.read_sql_query(\"SELECT * FROM recetas_crema\", conexion)\n",
        "\n",
        "# Consultar los datos de la tabla ingredientes\n",
        "df_ingredientes = pd.read_sql_query(\"SELECT * FROM ingredientes\", conexion)\n",
        "\n",
        "# Cerrar la conexión\n",
        "conexion.close()\n",
        "\n",
        "# Mostrar los datos de las recetas de crema en forma de tabla\n",
        "print(\"Tabla de Recetas de Crema:\")\n",
        "print(df_recetas)\n",
        "\n",
        "# Mostrar los datos de los ingredientes en forma de tabla\n",
        "print(\"\\nTabla de Ingredientes:\")\n",
        "print(df_ingredientes)"
      ],
      "metadata": {
        "colab": {
          "base_uri": "https://localhost:8080/"
        },
        "id": "0jlyzpFCf1jk",
        "outputId": "b952bac7-d7f9-4678-c632-09ce0c201e8b"
      },
      "execution_count": 125,
      "outputs": [
        {
          "output_type": "stream",
          "name": "stdout",
          "text": [
            "Tabla de Recetas de Crema:\n",
            "   id             nombre            propiedad\n",
            "0   1   Crema Hidratante          Hidratación\n",
            "1   2  Crema Antiarrugas  Anti-envejecimiento\n",
            "2   3   Crema Hidratante          Hidratación\n",
            "3   4  Crema Antiarrugas  Anti-envejecimiento\n",
            "4   5   Crema Hidratante          Hidratación\n",
            "5   6  Crema Antiarrugas  Anti-envejecimiento\n",
            "6   7   Crema Hidratante          Hidratación\n",
            "7   8  Crema Antiarrugas  Anti-envejecimiento\n",
            "8   9   Crema Hidratante          Hidratación\n",
            "9  10  Crema Antiarrugas  Anti-envejecimiento\n",
            "\n",
            "Tabla de Ingredientes:\n",
            "   id             nombre            propiedad\n",
            "0   1  Ácido hialurónico          Hidratación\n",
            "1   2            Retinol  Anti-envejecimiento\n",
            "2   3  Ácido hialurónico          Hidratación\n",
            "3   4            Retinol  Anti-envejecimiento\n",
            "4   5  Ácido hialurónico          Hidratación\n",
            "5   6            Retinol  Anti-envejecimiento\n",
            "6   7  Ácido hialurónico          Hidratación\n",
            "7   8            Retinol  Anti-envejecimiento\n",
            "8   9  Ácido hialurónico          Hidratación\n",
            "9  10            Retinol  Anti-envejecimiento\n"
          ]
        }
      ]
    },
    {
      "cell_type": "markdown",
      "source": [
        "ENTRENAMIENTO DEL MODELO\n"
      ],
      "metadata": {
        "id": "vyzVPZ6aP9QK"
      }
    },
    {
      "cell_type": "code",
      "source": [
        "# Establecer conexión con la base de datos\n",
        "conn = sqlite3.connect('encuesta_cremas.db')\n",
        "\n",
        "# Cargar los datos\n",
        "data = pd.read_sql_query(\"SELECT * FROM respuestas\", conn)\n",
        "\n",
        "# Convertir variables categóricas en variables dummy usando one-hot encoding\n",
        "data_encoded = pd.get_dummies(data)\n",
        "\n",
        "# Separar características (X) y etiquetas (y)\n",
        "X = data_encoded.drop('efectividad', axis=1)\n",
        "y = data_encoded['efectividad']\n",
        "\n",
        "# Dividir los datos en conjuntos de entrenamiento y prueba\n",
        "X_train, X_test, y_train, y_test = train_test_split(X, y, test_size=0.2, random_state=42)\n",
        "\n",
        "# Entrenar el modelo de clasificación\n",
        "modelo = RandomForestClassifier(n_estimators=100, random_state=42)\n",
        "modelo.fit(X_train, y_train)\n",
        "\n",
        "# Realizar predicciones en el conjunto de prueba\n",
        "predicciones = modelo.predict(X_test)\n"
      ],
      "metadata": {
        "id": "EO38yX1GQPWw"
      },
      "execution_count": 126,
      "outputs": []
    },
    {
      "cell_type": "markdown",
      "source": [
        "MEJORA DEL MODELO"
      ],
      "metadata": {
        "id": "N13NJcPKklkm"
      }
    },
    {
      "cell_type": "markdown",
      "source": [
        "EVALUACIÓN DEL MODELO"
      ],
      "metadata": {
        "id": "-XcALdp4AyWZ"
      }
    },
    {
      "cell_type": "code",
      "source": [
        "# Evaluar la precisión del modelo\n",
        "precision = accuracy_score(y_test, predicciones)\n",
        "print(\"Precisión del modelo:\", precision)\n",
        "\n",
        "# Matriz de confusión\n",
        "cm = confusion_matrix(y_test, predicciones)\n",
        "\n",
        "# Visualización de la matriz de confusión\n",
        "plt.figure(figsize=(8, 6))\n",
        "sns.heatmap(cm, annot=True, fmt='d', cmap='Blues', cbar=False)\n",
        "plt.xlabel('Predicción')\n",
        "plt.ylabel('Valor Real')\n",
        "plt.title('Matriz de Confusión')\n",
        "plt.show()\n",
        "\n",
        "# Reporte de clasificación\n",
        "print(\"Reporte de Clasificación:\")\n",
        "print(classification_report(y_test, predicciones))"
      ],
      "metadata": {
        "colab": {
          "base_uri": "https://localhost:8080/",
          "height": 807
        },
        "id": "wJBlybYVLwdN",
        "outputId": "1db97bce-93d4-41e4-b4e4-560a3c0f9da8"
      },
      "execution_count": 127,
      "outputs": [
        {
          "output_type": "stream",
          "name": "stdout",
          "text": [
            "Precisión del modelo: 0.23333333333333334\n"
          ]
        },
        {
          "output_type": "display_data",
          "data": {
            "text/plain": [
              "<Figure size 800x600 with 1 Axes>"
            ],
            "image/png": "[encoded data removed]"
          },
          "metadata": {}
        },
        {
          "output_type": "stream",
          "name": "stdout",
          "text": [
            "Reporte de Clasificación:\n",
            "              precision    recall  f1-score   support\n",
            "\n",
            "           1       0.30      0.20      0.24        30\n",
            "           2       0.12      0.15      0.13        20\n",
            "           3       0.33      0.24      0.28        29\n",
            "           4       0.38      0.41      0.39        22\n",
            "           5       0.10      0.16      0.12        19\n",
            "\n",
            "    accuracy                           0.23       120\n",
            "   macro avg       0.25      0.23      0.23       120\n",
            "weighted avg       0.26      0.23      0.24       120\n",
            "\n"
          ]
        }
      ]
    },
    {
      "cell_type": "markdown",
      "source": [
        "USO DEL MODELO"
      ],
      "metadata": {
        "id": "7w39kXqNCFqj"
      }
    },
    {
      "cell_type": "code",
      "source": [
        "\n",
        "preguntas = [\n",
        "    \"¿Cuál es tu tipo de piel? (Opciones: seca, grasa, mixta, sensible)\",\n",
        "    \"¿Tienes algún problema específico de piel que te gustaría abordar? (Opciones: acné, manchas, líneas finas, arrugas, enrojecimiento, etc.)\",\n",
        "    \"¿Tienes alguna sensibilidad o alergia a ingredientes comunes en productos para el cuidado de la piel? (Especificar si es el caso)\",\n",
        "    \"¿Tienes alguna preferencia en cuanto a ingredientes? (Opciones: naturales, orgánicos, sin fragancia, veganos, etc.)\",\n",
        "    \"¿Cuál es tu principal objetivo con el uso de la crema? (Opciones: hidratación, anti-envejecimiento, protección solar, tratamiento de manchas, etc.)\",\n",
        "    \"¿Cuánto tiempo estás dispuesto/a a dedicar a tu rutina de cuidado de la piel? (Opciones: poco tiempo, moderado, mucho tiempo)\",\n",
        "    \"¿Prefieres texturas ligeras o cremas más ricas y espesas? (Opciones: textura ligera, textura rica y cremosa)\",\n",
        "    \"¿Tienes un presupuesto específico en mente para productos para el cuidado de la piel? (Opciones: bajo, moderado, alto)\",\n",
        "    \"¿Has tenido alguna experiencia con productos para el cuidado de la piel que te haya gustado o disgustado? (Especificar si es el caso)\",\n",
        "    \"¿Hay alguna marca que prefieras o evites?\"\n",
        "]\n",
        "\n",
        "# Mostrar las preguntas\n",
        "for i, pregunta in enumerate(preguntas, 1):\n",
        "    print(f\"{i}. {pregunta}\")"
      ],
      "metadata": {
        "colab": {
          "base_uri": "https://localhost:8080/"
        },
        "id": "HayBgX0FCHry",
        "outputId": "083fc03e-5ef8-4777-f861-a991f5aff7bc"
      },
      "execution_count": 135,
      "outputs": [
        {
          "output_type": "stream",
          "name": "stdout",
          "text": [
            "1. ¿Cuál es tu tipo de piel? (Opciones: seca, grasa, mixta, sensible)\n",
            "2. ¿Tienes algún problema específico de piel que te gustaría abordar? (Opciones: acné, manchas, líneas finas, arrugas, enrojecimiento, etc.)\n",
            "3. ¿Tienes alguna sensibilidad o alergia a ingredientes comunes en productos para el cuidado de la piel? (Especificar si es el caso)\n",
            "4. ¿Tienes alguna preferencia en cuanto a ingredientes? (Opciones: naturales, orgánicos, sin fragancia, veganos, etc.)\n",
            "5. ¿Cuál es tu principal objetivo con el uso de la crema? (Opciones: hidratación, anti-envejecimiento, protección solar, tratamiento de manchas, etc.)\n",
            "6. ¿Cuánto tiempo estás dispuesto/a a dedicar a tu rutina de cuidado de la piel? (Opciones: poco tiempo, moderado, mucho tiempo)\n",
            "7. ¿Prefieres texturas ligeras o cremas más ricas y espesas? (Opciones: textura ligera, textura rica y cremosa)\n",
            "8. ¿Tienes un presupuesto específico en mente para productos para el cuidado de la piel? (Opciones: bajo, moderado, alto)\n",
            "9. ¿Has tenido alguna experiencia con productos para el cuidado de la piel que te haya gustado o disgustado? (Especificar si es el caso)\n",
            "10. ¿Hay alguna marca que prefieras o evites?\n"
          ]
        }
      ]
    },
    {
      "cell_type": "code",
      "source": [
        "import sqlite3\n",
        "\n",
        "# Conexión a la base de datos (creará un nuevo archivo si no existe)\n",
        "conexion = sqlite3.connect('respuestas_clientes.db')\n",
        "\n",
        "# Crear una tabla para almacenar las respuestas\n",
        "cursor = conexion.cursor()\n",
        "cursor.execute('''CREATE TABLE IF NOT EXISTS respuestas (\n",
        "                    id INTEGER PRIMARY KEY,\n",
        "                    pregunta TEXT,\n",
        "                    respuesta TEXT\n",
        "                )''')\n",
        "conexion.commit()\n",
        "\n",
        "# Preguntas que se le harán al cliente\n",
        "preguntas = [\n",
        "    \"¿Cuál es tu tipo de piel? (Opciones: seca, grasa, mixta, sensible)\",\n",
        "    \"¿Tienes algún problema específico de piel que te gustaría abordar? (Opciones: acné, manchas, líneas finas, arrugas, enrojecimiento, etc.)\",\n",
        "    \"¿Tienes alguna sensibilidad o alergia a ingredientes comunes en productos para el cuidado de la piel? (Especificar si es el caso)\",\n",
        "    \"¿Tienes alguna preferencia en cuanto a ingredientes? (Opciones: naturales,vitamina C, orgánicos, sin fragancia, veganos, etc.)\",\n",
        "    \"¿Cuál es tu principal objetivo con el uso de la crema? (Opciones: hidratación, anti-envejecimiento, protección solar, tratamiento de manchas, etc.)\",\n",
        "    \"¿Cuánto tiempo estás dispuesto/a a dedicar a tu rutina de cuidado de la piel? (Opciones: poco tiempo, moderado, mucho tiempo)\",\n",
        "    \"¿Prefieres texturas ligeras o cremas más ricas y espesas? (Opciones: textura ligera, textura rica y cremosa)\",\n",
        "    \"¿Tienes un presupuesto específico en mente para productos para el cuidado de la piel? (Opciones: bajo, moderado, alto)\",\n",
        "    \"¿Has tenido alguna experiencia con productos para el cuidado de la piel que te haya gustado o disgustado? (Especificar si es el caso)\",\n",
        "    \"¿Hay alguna marca que prefieras o evites?\"\n",
        "]\n",
        "\n",
        "# Recopilar respuestas del cliente y guardarlas en la base de datos\n",
        "for i, pregunta in enumerate(preguntas, 1):\n",
        "    respuesta = input(f\"{i}. {pregunta}\\nRespuesta: \")\n",
        "    while not respuesta.strip():  # Asegurar que la respuesta no esté vacía\n",
        "        print(\"¡La respuesta es obligatoria!\")\n",
        "        respuesta = input(f\"{i}. {pregunta}\\nRespuesta: \")\n",
        "    cursor.execute(\"INSERT INTO respuestas (pregunta, respuesta) VALUES (?, ?)\", (pregunta, respuesta))\n",
        "    conexion.commit()\n",
        "\n",
        "# Cerrar la conexión\n",
        "conexion.close()"
      ],
      "metadata": {
        "colab": {
          "base_uri": "https://localhost:8080/"
        },
        "id": "kv7eGjraCWhi",
        "outputId": "4a9a0340-523d-4cac-eb7c-e9a81ac40770"
      },
      "execution_count": 138,
      "outputs": [
        {
          "name": "stdout",
          "output_type": "stream",
          "text": [
            "1. ¿Cuál es tu tipo de piel? (Opciones: seca, grasa, mixta, sensible)\n",
            "Respuesta: seca\n",
            "2. ¿Tienes algún problema específico de piel que te gustaría abordar? (Opciones: acné, manchas, líneas finas, arrugas, enrojecimiento, etc.)\n",
            "Respuesta: manchas\n",
            "3. ¿Tienes alguna sensibilidad o alergia a ingredientes comunes en productos para el cuidado de la piel? (Especificar si es el caso)\n",
            "Respuesta: no\n",
            "4. ¿Tienes alguna preferencia en cuanto a ingredientes? (Opciones: naturales,vitamina C, orgánicos, sin fragancia, veganos, etc.)\n",
            "Respuesta: vitamina C\n",
            "5. ¿Cuál es tu principal objetivo con el uso de la crema? (Opciones: hidratación, anti-envejecimiento, protección solar, tratamiento de manchas, etc.)\n",
            "Respuesta: tratamiento de manchas\n",
            "6. ¿Cuánto tiempo estás dispuesto/a a dedicar a tu rutina de cuidado de la piel? (Opciones: poco tiempo, moderado, mucho tiempo)\n",
            "Respuesta: poco tiempo\n",
            "7. ¿Prefieres texturas ligeras o cremas más ricas y espesas? (Opciones: textura ligera, textura rica y cremosa)\n",
            "Respuesta: texturas ligeras\n",
            "8. ¿Tienes un presupuesto específico en mente para productos para el cuidado de la piel? (Opciones: bajo, moderado, alto)\n",
            "Respuesta: bajo\n",
            "9. ¿Has tenido alguna experiencia con productos para el cuidado de la piel que te haya gustado o disgustado? (Especificar si es el caso)\n",
            "Respuesta: no\n",
            "10. ¿Hay alguna marca que prefieras o evites?\n",
            "Respuesta: no\n"
          ]
        }
      ]
    },
    {
      "cell_type": "code",
      "source": [
        "# Conexión a la base de datos\n",
        "conexion = sqlite3.connect('respuestas_clientes.db')\n",
        "\n",
        "# Consultar todos los registros de la tabla\n",
        "consulta = \"SELECT * FROM respuestas\"\n",
        "\n",
        "# Leer los resultados de la consulta en un DataFrame de Pandas\n",
        "df = pd.read_sql_query(consulta, conexion)\n",
        "\n",
        "# Mostrar el DataFrame con las respuestas de los clientes\n",
        "print(df)\n",
        "\n",
        "# Cerrar la conexión\n",
        "conexion.close()"
      ],
      "metadata": {
        "colab": {
          "base_uri": "https://localhost:8080/"
        },
        "id": "nm8cx2X4fGwE",
        "outputId": "311e9342-007f-4647-8856-5c9e7535263a"
      },
      "execution_count": 139,
      "outputs": [
        {
          "output_type": "stream",
          "name": "stdout",
          "text": [
            "    id                                           pregunta         respuesta\n",
            "0    1  ¿Cuál es tu tipo de piel? (Opciones: seca, gra...              seca\n",
            "1    2  ¿Tienes algún problema específico de piel que ...              acné\n",
            "2    3  ¿Tienes alguna sensibilidad o alergia a ingred...                no\n",
            "3    4  ¿Tienes alguna preferencia en cuanto a ingredi...     sin fragancia\n",
            "4    5  ¿Cuál es tu principal objetivo con el uso de l...       hidratación\n",
            "..  ..                                                ...               ...\n",
            "85  86  ¿Cuánto tiempo estás dispuesto/a a dedicar a t...       poco tiempo\n",
            "86  87  ¿Prefieres texturas ligeras o cremas más ricas...  texturas ligeras\n",
            "87  88  ¿Tienes un presupuesto específico en mente par...              bajo\n",
            "88  89  ¿Has tenido alguna experiencia con productos p...                no\n",
            "89  90          ¿Hay alguna marca que prefieras o evites?                no\n",
            "\n",
            "[90 rows x 3 columns]\n"
          ]
        }
      ]
    },
    {
      "cell_type": "markdown",
      "source": [
        "RECOMENDACIÓN BASADA EN LA RESPUESTAS"
      ],
      "metadata": {
        "id": "d2j-Hib1Di18"
      }
    },
    {
      "cell_type": "code",
      "source": [
        "# Diccionario de recetas de crema\n",
        "recetas = {\n",
        "    \"Crema Hidratante\": {\n",
        "        \"tipo_piel\": [\"seca\", \"mixta\"],\n",
        "        \"preocupaciones\": [\"hidratación\"],\n",
        "        \"ingredientes_preferidos\": [\"ácido hialurónico\", \"glicerina\"],\n",
        "        \"nombre_comercial\": \"BellezaPlus\"\n",
        "    },\n",
        "    \"Crema Antiarrugas\": {\n",
        "        \"tipo_piel\": [\"normal\", \"mixta\"],\n",
        "        \"preocupaciones\": [\"arrugas\"],\n",
        "        \"ingredientes_preferidos\": [\"retinol\", \"colágeno\"],\n",
        "        \"nombre_comercial\": \"JuventudEterna\"\n",
        "    },\n",
        "    \"Crema Antiacné\": {\n",
        "        \"tipo_piel\": [\"grasa\", \"mixta\"],\n",
        "        \"preocupaciones\": [\"acné\"],\n",
        "        \"ingredientes_preferidos\": [\"ácido salicílico\", \"niacinamida\"],\n",
        "        \"nombre_comercial\": \"PielRadiante\"\n",
        "    },\n",
        "    # Agregar más recetas con sus respectivos atributos\n",
        "}\n",
        "\n",
        "# Función para recomendar una crema basada en las respuestas del cliente\n",
        "def recomendar_crema(respuestas):\n",
        "    for receta, atributos in recetas.items():\n",
        "        # Verificar si los atributos de la receta coinciden con las respuestas del cliente\n",
        "        if all(respuesta in atributos[atributo] for respuesta, atributo in zip(respuestas, atributos)):\n",
        "            nombre_comercial = atributos[\"nombre_comercial\"]\n",
        "            ingredientes = atributos[\"ingredientes_preferidos\"]\n",
        "            return receta, nombre_comercial, ingredientes\n",
        "    # Si no se encuentra ninguna receta que coincida con las respuestas del cliente, devolver None\n",
        "    return None, None, None\n",
        "\n",
        "# Conexión a la base de datos\n",
        "conexion = sqlite3.connect('respuestas_clientes.db')\n",
        "cursor = conexion.cursor()\n",
        "\n",
        "# Leer las respuestas del cliente desde la base de datos\n",
        "cursor.execute(\"SELECT respuesta FROM respuestas\")\n",
        "respuestas_cliente = cursor.fetchall()\n",
        "\n",
        "# Procesar las respuestas del cliente\n",
        "respuestas = [respuesta[0] for respuesta in respuestas_cliente]\n",
        "receta_recomendada, nombre_comercial, ingredientes = recomendar_crema(respuestas)\n",
        "\n",
        "# Mostrar la receta recomendada, el nombre comercial y los ingredientes en pantalla\n",
        "if receta_recomendada:\n",
        "    print(\"Recomendación de Crema:\")\n",
        "    print(\"Nombre:\", receta_recomendada)\n",
        "    print(\"Nombre Comercial:\", nombre_comercial)\n",
        "    print(\"Ingredientes:\", \", \".join(ingredientes))\n",
        "else:\n",
        "    print(\"Lo sentimos, no hay una crema recomendada para estas preferencias.\")\n",
        "\n",
        "# Cerrar la conexión a la base de datos\n",
        "conexion.close()"
      ],
      "metadata": {
        "id": "FRWxBmLxDZXz",
        "colab": {
          "base_uri": "https://localhost:8080/"
        },
        "outputId": "917c23d8-b844-4125-d31a-96d341dbb2f2"
      },
      "execution_count": 140,
      "outputs": [
        {
          "output_type": "stream",
          "name": "stdout",
          "text": [
            "Lo sentimos, no hay una crema recomendada para estas preferencias.\n"
          ]
        }
      ]
    },
    {
      "cell_type": "markdown",
      "source": [
        "**EJEMPLO DE USO:**  \n",
        "¿cuando recomendarás PielRadiante?,¿Cuáles deberían ser las respuestas del cliente?\n",
        "ChatGPT\n",
        "Para recomendar la crema \"PielRadiante\", las respuestas del cliente deben coincidir con los atributos de esa receta en particular.\n",
        " Basándonos en los datos proporcionados, aquí hay una recomendación de cómo podrían ser esas respuestas:\n",
        "\n",
        "Tipo de piel: Seca\n",
        "Preocupaciones: Manchas\n",
        "Ingredientes preferidos: Vitamina C"
      ],
      "metadata": {
        "id": "tnGPk9L5sSLd"
      }
    },
    {
      "cell_type": "markdown",
      "source": [],
      "metadata": {
        "id": "7NmpgoCVNGMu"
      }
    }
  ]
}