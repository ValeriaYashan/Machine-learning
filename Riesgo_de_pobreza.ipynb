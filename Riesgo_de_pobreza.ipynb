{
  "nbformat": 4,
  "nbformat_minor": 0,
  "metadata": {
    "colab": {
      "provenance": [],
      "authorship_tag": "ABX9TyMgItqEQzUI0CUg+sgpveiU",
      "include_colab_link": true
    },
    "kernelspec": {
      "name": "python3",
      "display_name": "Python 3"
    },
    "language_info": {
      "name": "python"
    }
  },
  "cells": [
    {
      "cell_type": "markdown",
      "metadata": {
        "id": "view-in-github",
        "colab_type": "text"
      },
      "source": [
        "<a href=\"https://colab.research.google.com/github/ValeriaYashan/Machine-learning/blob/main/Riesgo_de_pobreza.ipynb\" target=\"_parent\"><img src=\"https://colab.research.google.com/assets/colab-badge.svg\" alt=\"Open In Colab\"/></a>"
      ]
    },
    {
      "cell_type": "markdown",
      "source": [
        "Este es un modelo de clasificación binaria que utiliza regresión logística para predecir el nivel de pobreza de una persona en función de sus características socioeconómicas.\n",
        "\n",
        "Regresión Logística: Es un algoritmo de aprendizaje supervisado utilizado para predecir la probabilidad de que una observación pertenezca a una clase particular. En este caso, la regresión logística se utiliza para predecir la probabilidad de que una persona se encuentre en una categoría específica de pobreza (pobreza extrema, pobreza moderada o no pobreza) en función de sus ingresos medios.\n",
        "\n",
        "Clasificación Binaria: El problema de clasificación se simplifica en este caso a una clasificación binaria entre \"pobreza\" y \"no pobreza\". La regresión logística calcula la probabilidad de pertenecer a la clase \"pobreza\" y, utilizando un umbral, asigna una etiqueta de clase a cada instancia.\n",
        "\n",
        "Umbrales de Pobreza: Se definen umbrales de ingresos para determinar las categorías de pobreza. En este caso, se han definido dos umbrales: uno para la \"pobreza extrema\" y otro para la \"pobreza moderada\".\n",
        "\n",
        "Evaluación del Modelo: Se evalúa el rendimiento del modelo utilizando métricas como la exactitud (accuracy) y el reporte de clasificación. La exactitud indica la proporción de predicciones correctas sobre el total de predicciones realizadas en el conjunto de prueba, mientras que el reporte de clasificación proporciona métricas adicionales como precision, recall y f1-score para cada clase."
      ],
      "metadata": {
        "id": "8S03sIL70o4z"
      }
    },
    {
      "cell_type": "markdown",
      "source": [],
      "metadata": {
        "id": "uOClm2Va2k1G"
      }
    },
    {
      "cell_type": "code",
      "source": [
        "import csv\n",
        "\n",
        "# Datos completos\n",
        "datos_completos = [\n",
        "    {\"Año\": 2000, \"Ingresos_medios\": 25000, \"Ingresos_mediana\": 20000, \"Ingresos_per_capita\": 10000},\n",
        "    {\"Año\": 2001, \"Ingresos_medios\": 26000, \"Ingresos_mediana\": 21000, \"Ingresos_per_capita\": 10500},\n",
        "    {\"Año\": 2002, \"Ingresos_medios\": 27000, \"Ingresos_mediana\": 22000, \"Ingresos_per_capita\": 11000},\n",
        "    {\"Año\": 2003, \"Ingresos_medios\": 28000, \"Ingresos_mediana\": 23000, \"Ingresos_per_capita\": 11500},\n",
        "    {\"Año\": 2004, \"Ingresos_medios\": 29000, \"Ingresos_mediana\": 24000, \"Ingresos_per_capita\": 12000},\n",
        "    {\"Año\": 2005, \"Ingresos_medios\": 30000, \"Ingresos_mediana\": 25000, \"Ingresos_per_capita\": 12500},\n",
        "    {\"Año\": 2006, \"Ingresos_medios\": 31000, \"Ingresos_mediana\": 26000, \"Ingresos_per_capita\": 13000},\n",
        "    {\"Año\": 2007, \"Ingresos_medios\": 32000, \"Ingresos_mediana\": 27000, \"Ingresos_per_capita\": 13500},\n",
        "    {\"Año\": 2008, \"Ingresos_medios\": 33000, \"Ingresos_mediana\": 28000, \"Ingresos_per_capita\": 14000},\n",
        "    {\"Año\": 2009, \"Ingresos_medios\": 34000, \"Ingresos_mediana\": 29000, \"Ingresos_per_capita\": 14500},\n",
        "    {\"Año\": 2010, \"Ingresos_medios\": 35000, \"Ingresos_mediana\": 30000, \"Ingresos_per_capita\": 15000}\n",
        "]\n",
        "\n",
        "# Nombre del archivo CSV\n",
        "archivo_csv = 'datos_ingresos.csv'\n",
        "\n",
        "# Lista de nombres de las columnas\n",
        "columnas = ['Año', 'Ingresos_medios', 'Ingresos_mediana', 'Ingresos_per_capita']\n",
        "\n",
        "# Escribir los datos en el archivo CSV\n",
        "with open(archivo_csv, 'w', newline='') as archivo:\n",
        "    writer = csv.DictWriter(archivo, fieldnames=columnas)\n",
        "\n",
        "    # Escribir los nombres de las columnas\n",
        "    writer.writeheader()\n",
        "\n",
        "    # Escribir los datos\n",
        "    writer.writerows(datos_completos)\n",
        "\n",
        "print(\"El archivo CSV 'datos_ingresos.csv' se ha creado exitosamente.\")"
      ],
      "metadata": {
        "colab": {
          "base_uri": "https://localhost:8080/"
        },
        "id": "ziZOgmiB0spG",
        "outputId": "21f7b93e-eec7-475d-d7bd-70203dba2af0"
      },
      "execution_count": 69,
      "outputs": [
        {
          "output_type": "stream",
          "name": "stdout",
          "text": [
            "El archivo CSV 'datos_ingresos.csv' se ha creado exitosamente.\n"
          ]
        }
      ]
    },
    {
      "cell_type": "code",
      "source": [
        "import csv\n",
        "\n",
        "# Nombre del archivo CSV\n",
        "archivo_csv = 'datos.csv'\n",
        "\n",
        "# Lista de nombres de las columnas\n",
        "columnas = ['Año','Edad', 'Género', 'Nivel_educativo', 'Ingresos_familiares', 'Acceso_agua_potable', 'Acceso_electricidad']\n",
        "\n",
        "# Datos a escribir en el archivo CSV\n",
        "datos = [\n",
        "    {\"Año\": 2000,'Edad': 25, 'Género': 'Masculino', 'Nivel_educativo': 'Universidad', 'Ingresos_familiares': 15000, 'Acceso_agua_potable': 'Sí', 'Acceso_electricidad': 'Sí'},\n",
        "    {\"Año\": 2005,'Edad': 35, 'Género': 'Femenino', 'Nivel_educativo': 'Secundaria', 'Ingresos_familiares': 8000, 'Acceso_agua_potable': 'No', 'Acceso_electricidad': 'Sí'}\n",
        "]\n",
        "\n",
        "# Escribir los datos en el archivo CSV\n",
        "with open(archivo_csv, 'w', newline='') as archivo:\n",
        "    writer = csv.DictWriter(archivo, fieldnames=columnas)\n",
        "\n",
        "    # Escribir los nombres de las columnas\n",
        "    writer.writeheader()\n",
        "\n",
        "    # Escribir los datos\n",
        "    writer.writerows(datos)\n",
        "\n",
        "print(\"El archivo CSV ha sido creado exitosamente.\")"
      ],
      "metadata": {
        "colab": {
          "base_uri": "https://localhost:8080/"
        },
        "id": "7LhjhRdKkKyc",
        "outputId": "e10dfd04-1294-4ad7-97d8-32d8402d03ae"
      },
      "execution_count": 70,
      "outputs": [
        {
          "output_type": "stream",
          "name": "stdout",
          "text": [
            "El archivo CSV ha sido creado exitosamente.\n"
          ]
        }
      ]
    },
    {
      "cell_type": "code",
      "source": [
        "import csv\n",
        "\n",
        "# Nombre del archivo CSV\n",
        "archivo_csv = 'datos_rubro.csv'\n",
        "\n",
        "# Lista de nombres de las columnas\n",
        "columnas = ['Año','Rubro', 'Salario_minimo']\n",
        "\n",
        "# Datos a escribir en el archivo CSV\n",
        "datos = [\n",
        "    {'Año':2005,'Rubro': 'Comercio', 'Salario_minimo': 40000},\n",
        "    {'Año':2005,'Rubro': 'Manufactura', 'Salario_minimo': 38000},\n",
        "    {'Año':2005,'Rubro': 'Construcción', 'Salario_minimo': 42000},\n",
        "    {'Año':2005,'Rubro': 'Servicios', 'Salario_minimo': 37000},\n",
        "    {'Año':2005,'Rubro': 'Agricultura', 'Salario_minimo': 35000}\n",
        "]\n",
        "\n",
        "# Escribir los datos en el archivo CSV\n",
        "with open(archivo_csv, 'w', newline='') as archivo:\n",
        "    writer = csv.DictWriter(archivo, fieldnames=columnas)\n",
        "\n",
        "    # Escribir los nombres de las columnas\n",
        "    writer.writeheader()\n",
        "\n",
        "    # Escribir los datos\n",
        "    writer.writerows(datos)\n",
        "\n",
        "print(\"El archivo CSV ha sido creado exitosamente.\")"
      ],
      "metadata": {
        "colab": {
          "base_uri": "https://localhost:8080/"
        },
        "id": "Y41cFXZKkceV",
        "outputId": "dcef0cf8-25ce-4a7b-d55e-9ae21b81db3a"
      },
      "execution_count": 71,
      "outputs": [
        {
          "output_type": "stream",
          "name": "stdout",
          "text": [
            "El archivo CSV ha sido creado exitosamente.\n"
          ]
        }
      ]
    },
    {
      "cell_type": "markdown",
      "source": [
        "SUBO LOS ARCHIVOS QUE NECESITO"
      ],
      "metadata": {
        "id": "joQbMKHj00-x"
      }
    },
    {
      "cell_type": "code",
      "source": [
        "from google.colab import files\n",
        "\n",
        "# Subir los archivos desde tu computadora\n",
        "uploaded = files.upload()\n",
        "\n",
        "# Verificar que los archivos se hayan cargado correctamente\n",
        "for filename in uploaded.keys():\n",
        "    print('El archivo \"{}\" se ha cargado correctamente.'.format(filename))\n"
      ],
      "metadata": {
        "colab": {
          "base_uri": "https://localhost:8080/",
          "height": 89
        },
        "id": "lMpNH40wR4hW",
        "outputId": "827a84b7-ee72-4598-b376-6ca36a8360f0"
      },
      "execution_count": 40,
      "outputs": [
        {
          "output_type": "display_data",
          "data": {
            "text/plain": [
              "<IPython.core.display.HTML object>"
            ],
            "text/html": [
              "\n",
              "     <input type=\"file\" id=\"files-320d1256-07ea-44b6-b146-a257782fbc8a\" name=\"files[]\" multiple disabled\n",
              "        style=\"border:none\" />\n",
              "     <output id=\"result-320d1256-07ea-44b6-b146-a257782fbc8a\">\n",
              "      Upload widget is only available when the cell has been executed in the\n",
              "      current browser session. Please rerun this cell to enable.\n",
              "      </output>\n",
              "      <script>// Copyright 2017 Google LLC\n",
              "//\n",
              "// Licensed under the Apache License, Version 2.0 (the \"License\");\n",
              "// you may not use this file except in compliance with the License.\n",
              "// You may obtain a copy of the License at\n",
              "//\n",
              "//      http://www.apache.org/licenses/LICENSE-2.0\n",
              "//\n",
              "// Unless required by applicable law or agreed to in writing, software\n",
              "// distributed under the License is distributed on an \"AS IS\" BASIS,\n",
              "// WITHOUT WARRANTIES OR CONDITIONS OF ANY KIND, either express or implied.\n",
              "// See the License for the specific language governing permissions and\n",
              "// limitations under the License.\n",
              "\n",
              "/**\n",
              " * @fileoverview Helpers for google.colab Python module.\n",
              " */\n",
              "(function(scope) {\n",
              "function span(text, styleAttributes = {}) {\n",
              "  const element = document.createElement('span');\n",
              "  element.textContent = text;\n",
              "  for (const key of Object.keys(styleAttributes)) {\n",
              "    element.style[key] = styleAttributes[key];\n",
              "  }\n",
              "  return element;\n",
              "}\n",
              "\n",
              "// Max number of bytes which will be uploaded at a time.\n",
              "const MAX_PAYLOAD_SIZE = 100 * 1024;\n",
              "\n",
              "function _uploadFiles(inputId, outputId) {\n",
              "  const steps = uploadFilesStep(inputId, outputId);\n",
              "  const outputElement = document.getElementById(outputId);\n",
              "  // Cache steps on the outputElement to make it available for the next call\n",
              "  // to uploadFilesContinue from Python.\n",
              "  outputElement.steps = steps;\n",
              "\n",
              "  return _uploadFilesContinue(outputId);\n",
              "}\n",
              "\n",
              "// This is roughly an async generator (not supported in the browser yet),\n",
              "// where there are multiple asynchronous steps and the Python side is going\n",
              "// to poll for completion of each step.\n",
              "// This uses a Promise to block the python side on completion of each step,\n",
              "// then passes the result of the previous step as the input to the next step.\n",
              "function _uploadFilesContinue(outputId) {\n",
              "  const outputElement = document.getElementById(outputId);\n",
              "  const steps = outputElement.steps;\n",
              "\n",
              "  const next = steps.next(outputElement.lastPromiseValue);\n",
              "  return Promise.resolve(next.value.promise).then((value) => {\n",
              "    // Cache the last promise value to make it available to the next\n",
              "    // step of the generator.\n",
              "    outputElement.lastPromiseValue = value;\n",
              "    return next.value.response;\n",
              "  });\n",
              "}\n",
              "\n",
              "/**\n",
              " * Generator function which is called between each async step of the upload\n",
              " * process.\n",
              " * @param {string} inputId Element ID of the input file picker element.\n",
              " * @param {string} outputId Element ID of the output display.\n",
              " * @return {!Iterable<!Object>} Iterable of next steps.\n",
              " */\n",
              "function* uploadFilesStep(inputId, outputId) {\n",
              "  const inputElement = document.getElementById(inputId);\n",
              "  inputElement.disabled = false;\n",
              "\n",
              "  const outputElement = document.getElementById(outputId);\n",
              "  outputElement.innerHTML = '';\n",
              "\n",
              "  const pickedPromise = new Promise((resolve) => {\n",
              "    inputElement.addEventListener('change', (e) => {\n",
              "      resolve(e.target.files);\n",
              "    });\n",
              "  });\n",
              "\n",
              "  const cancel = document.createElement('button');\n",
              "  inputElement.parentElement.appendChild(cancel);\n",
              "  cancel.textContent = 'Cancel upload';\n",
              "  const cancelPromise = new Promise((resolve) => {\n",
              "    cancel.onclick = () => {\n",
              "      resolve(null);\n",
              "    };\n",
              "  });\n",
              "\n",
              "  // Wait for the user to pick the files.\n",
              "  const files = yield {\n",
              "    promise: Promise.race([pickedPromise, cancelPromise]),\n",
              "    response: {\n",
              "      action: 'starting',\n",
              "    }\n",
              "  };\n",
              "\n",
              "  cancel.remove();\n",
              "\n",
              "  // Disable the input element since further picks are not allowed.\n",
              "  inputElement.disabled = true;\n",
              "\n",
              "  if (!files) {\n",
              "    return {\n",
              "      response: {\n",
              "        action: 'complete',\n",
              "      }\n",
              "    };\n",
              "  }\n",
              "\n",
              "  for (const file of files) {\n",
              "    const li = document.createElement('li');\n",
              "    li.append(span(file.name, {fontWeight: 'bold'}));\n",
              "    li.append(span(\n",
              "        `(${file.type || 'n/a'}) - ${file.size} bytes, ` +\n",
              "        `last modified: ${\n",
              "            file.lastModifiedDate ? file.lastModifiedDate.toLocaleDateString() :\n",
              "                                    'n/a'} - `));\n",
              "    const percent = span('0% done');\n",
              "    li.appendChild(percent);\n",
              "\n",
              "    outputElement.appendChild(li);\n",
              "\n",
              "    const fileDataPromise = new Promise((resolve) => {\n",
              "      const reader = new FileReader();\n",
              "      reader.onload = (e) => {\n",
              "        resolve(e.target.result);\n",
              "      };\n",
              "      reader.readAsArrayBuffer(file);\n",
              "    });\n",
              "    // Wait for the data to be ready.\n",
              "    let fileData = yield {\n",
              "      promise: fileDataPromise,\n",
              "      response: {\n",
              "        action: 'continue',\n",
              "      }\n",
              "    };\n",
              "\n",
              "    // Use a chunked sending to avoid message size limits. See b/62115660.\n",
              "    let position = 0;\n",
              "    do {\n",
              "      const length = Math.min(fileData.byteLength - position, MAX_PAYLOAD_SIZE);\n",
              "      const chunk = new Uint8Array(fileData, position, length);\n",
              "      position += length;\n",
              "\n",
              "      const base64 = btoa(String.fromCharCode.apply(null, chunk));\n",
              "      yield {\n",
              "        response: {\n",
              "          action: 'append',\n",
              "          file: file.name,\n",
              "          data: base64,\n",
              "        },\n",
              "      };\n",
              "\n",
              "      let percentDone = fileData.byteLength === 0 ?\n",
              "          100 :\n",
              "          Math.round((position / fileData.byteLength) * 100);\n",
              "      percent.textContent = `${percentDone}% done`;\n",
              "\n",
              "    } while (position < fileData.byteLength);\n",
              "  }\n",
              "\n",
              "  // All done.\n",
              "  yield {\n",
              "    response: {\n",
              "      action: 'complete',\n",
              "    }\n",
              "  };\n",
              "}\n",
              "\n",
              "scope.google = scope.google || {};\n",
              "scope.google.colab = scope.google.colab || {};\n",
              "scope.google.colab._files = {\n",
              "  _uploadFiles,\n",
              "  _uploadFilesContinue,\n",
              "};\n",
              "})(self);\n",
              "</script> "
            ]
          },
          "metadata": {}
        },
        {
          "output_type": "stream",
          "name": "stdout",
          "text": [
            "Saving datos_ingresos.csv to datos_ingresos (1).csv\n",
            "El archivo \"datos_ingresos (1).csv\" se ha cargado correctamente.\n"
          ]
        }
      ]
    },
    {
      "cell_type": "code",
      "source": [
        "import pandas as pd\n",
        "\n",
        "# Cargar los datos\n",
        "datos_ingresos = pd.read_csv(\"datos_ingresos.csv\")\n",
        "datos_datos = pd.read_csv(\"datos.csv\")\n",
        "datos_rubro = pd.read_csv(\"datos_rubro.csv\")\n",
        "\n",
        "# Mostrar las primeras líneas del DataFrame\n",
        "print(\"Primeras líneas del DataFrame de ingresos:\")\n",
        "print(datos_ingresos.head())\n",
        "print()\n",
        "\n",
        "print(\"Primeras líneas del DataFrame de datos:\")\n",
        "print(datos_datos.head())\n",
        "print()\n",
        "\n",
        "print(\"Primeras líneas del DataFrame de rubros:\")\n",
        "print(datos_rubro.head())\n",
        "\n"
      ],
      "metadata": {
        "colab": {
          "base_uri": "https://localhost:8080/"
        },
        "id": "OJ0c0VJOTffG",
        "outputId": "57d8e0de-dca1-4c80-c518-3223b936cfe8"
      },
      "execution_count": 72,
      "outputs": [
        {
          "output_type": "stream",
          "name": "stdout",
          "text": [
            "Primeras líneas del DataFrame de ingresos:\n",
            "    Año  Ingresos_medios  Ingresos_mediana  Ingresos_per_capita\n",
            "0  2000            25000             20000                10000\n",
            "1  2001            26000             21000                10500\n",
            "2  2002            27000             22000                11000\n",
            "3  2003            28000             23000                11500\n",
            "4  2004            29000             24000                12000\n",
            "\n",
            "Primeras líneas del DataFrame de datos:\n",
            "    Año  Edad     Género Nivel_educativo  Ingresos_familiares  \\\n",
            "0  2000    25  Masculino     Universidad                15000   \n",
            "1  2005    35   Femenino      Secundaria                 8000   \n",
            "\n",
            "  Acceso_agua_potable Acceso_electricidad  \n",
            "0                  Sí                  Sí  \n",
            "1                  No                  Sí  \n",
            "\n",
            "Primeras líneas del DataFrame de rubros:\n",
            "    Año         Rubro  Salario_minimo\n",
            "0  2005      Comercio           40000\n",
            "1  2005   Manufactura           38000\n",
            "2  2005  Construcción           42000\n",
            "3  2005     Servicios           37000\n",
            "4  2005   Agricultura           35000\n"
          ]
        }
      ]
    },
    {
      "cell_type": "markdown",
      "source": [
        "MODELO"
      ],
      "metadata": {
        "id": "GQuPpEbV1AQ2"
      }
    },
    {
      "cell_type": "code",
      "source": [
        "# Convertir variables categóricas en variables numéricas utilizando one-hot encoding\n",
        "data_encoded = pd.get_dummies(data)\n",
        "\n",
        "# Dividir los datos en características (X) y etiquetas (y) nuevamente\n",
        "X_encoded = data_encoded.drop('Año', axis=1)\n",
        "y_encoded = data_encoded['Año']\n",
        "\n",
        "# Dividir los datos en conjuntos de entrenamiento y prueba\n",
        "X_train_encoded, X_test_encoded, y_train_encoded, y_test_encoded = train_test_split(X_encoded, y_encoded, test_size=0.2, random_state=42)\n",
        "\n",
        "# Inicializar y entrenar el modelo de regresión lineal con los datos codificados\n",
        "model_encoded = LinearRegression()\n",
        "model_encoded.fit(X_train_encoded, y_train_encoded)\n",
        "\n",
        "# Predecir en el conjunto de prueba\n",
        "y_pred_encoded = model_encoded.predict(X_test_encoded)\n",
        "\n",
        "# Evaluar el rendimiento del modelo\n",
        "mse_encoded = mean_squared_error(y_test_encoded, y_pred_encoded)\n",
        "r2_encoded = r2_score(y_test_encoded, y_pred_encoded)\n",
        "print('Error cuadrático medio:', mse_encoded)\n",
        "print('Coeficiente de determinación:', r2_encoded)"
      ],
      "metadata": {
        "colab": {
          "base_uri": "https://localhost:8080/"
        },
        "id": "BmBSDvtJfIv0",
        "outputId": "559bcc6a-88f9-4450-d6aa-362dd9169a7c"
      },
      "execution_count": 77,
      "outputs": [
        {
          "output_type": "stream",
          "name": "stdout",
          "text": [
            "Error cuadrático medio: 0.0\n",
            "Coeficiente de determinación: nan\n"
          ]
        },
        {
          "output_type": "stream",
          "name": "stderr",
          "text": [
            "/usr/local/lib/python3.10/dist-packages/sklearn/metrics/_regression.py:918: UndefinedMetricWarning: R^2 score is not well-defined with less than two samples.\n",
            "  warnings.warn(msg, UndefinedMetricWarning)\n"
          ]
        }
      ]
    },
    {
      "cell_type": "markdown",
      "source": [
        "\n",
        "Este fragmento de código realiza los siguientes pasos:\n",
        "\n",
        "One-Hot Encoding: Utiliza la función pd.get_dummies() para convertir las variables categóricas en variables numéricas utilizando one-hot encoding. Esto crea nuevas columnas binarias para cada valor único en las variables categóricas.\n",
        "\n",
        "División de los datos codificados: Divide los datos transformados en características (X) y etiquetas (y) nuevamente.\n",
        "\n",
        "División en conjuntos de entrenamiento y prueba: Divide los datos codificados en conjuntos de entrenamiento y prueba utilizando la función train_test_split().\n",
        "\n",
        "Inicialización y entrenamiento del modelo de regresión lineal con los datos codificados: Inicializa un modelo de regresión lineal y lo entrena utilizando los datos codificados de entrenamiento.\n",
        "\n",
        "Predicción en el conjunto de prueba: Utiliza el modelo entrenado para hacer predicciones sobre el conjunto de prueba codificado.\n",
        "\n",
        "Evaluación del rendimiento del modelo: Calcula el error cuadrático medio (MSE) y el coeficiente de determinación (R^2) para evaluar el rendimiento del modelo en el conjunto de prueba codificado.\n",
        "\n",
        "En resumen, este código aplica one-hot encoding a los datos categóricos, entrena un modelo de regresión lineal con los datos transformados y evalúa su rendimiento utilizando métricas de regresión."
      ],
      "metadata": {
        "id": "ZQfUbi8-3Njw"
      }
    },
    {
      "cell_type": "markdown",
      "source": [
        "Predecir pobreza"
      ],
      "metadata": {
        "id": "yk7FuLx4jUpb"
      }
    },
    {
      "cell_type": "code",
      "source": [
        "import pandas as pd\n",
        "from sklearn.model_selection import train_test_split\n",
        "from sklearn.linear_model import LogisticRegression\n",
        "from sklearn.metrics import accuracy_score, classification_report\n",
        "\n",
        "# Cargar los datos\n",
        "datos = pd.read_csv(\"datos_ingresos.csv\")\n",
        "\n",
        "# Definir los umbrales de pobreza\n",
        "umbral_extrema = 30000\n",
        "umbral_moderada = 50000\n",
        "\n",
        "# Etiquetar las personas según su nivel de pobreza\n",
        "datos['Pobreza'] = pd.cut(datos['Ingresos_medios'], bins=[-float('inf'), umbral_extrema, umbral_moderada, float('inf')], labels=['pobreza_extrema', 'pobreza_moderada', 'no_pobreza'])\n",
        "\n",
        "# Dividir los datos en características (X) y etiquetas (y)\n",
        "X = datos.drop(['Año', 'Pobreza'], axis=1)\n",
        "y = datos['Pobreza']\n",
        "\n",
        "# Dividir los datos en conjuntos de entrenamiento y prueba\n",
        "X_train, X_test, y_train, y_test = train_test_split(X, y, test_size=0.2, random_state=42)\n",
        "\n",
        "# Inicializar y entrenar el modelo de regresión logística\n",
        "modelo = LogisticRegression()\n",
        "modelo.fit(X_train, y_train)\n",
        "\n",
        "# Predecir en el conjunto de prueba\n",
        "y_pred = modelo.predict(X_test)\n",
        "\n",
        "# Evaluar el rendimiento del modelo\n",
        "accuracy = accuracy_score(y_test, y_pred)\n",
        "print(\"Exactitud del modelo:\", accuracy)\n",
        "\n",
        "# Mostrar el reporte de clasificación\n",
        "print(\"\\nReporte de Clasificación:\")\n",
        "print(classification_report(y_test, y_pred))"
      ],
      "metadata": {
        "colab": {
          "base_uri": "https://localhost:8080/"
        },
        "id": "ImP4i02ojUzW",
        "outputId": "921d2a7c-654f-480d-ed06-8bac81973978"
      },
      "execution_count": 76,
      "outputs": [
        {
          "output_type": "stream",
          "name": "stdout",
          "text": [
            "Exactitud del modelo: 0.6666666666666666\n",
            "\n",
            "Reporte de Clasificación:\n",
            "                  precision    recall  f1-score   support\n",
            "\n",
            " pobreza_extrema       1.00      0.50      0.67         2\n",
            "pobreza_moderada       0.50      1.00      0.67         1\n",
            "\n",
            "        accuracy                           0.67         3\n",
            "       macro avg       0.75      0.75      0.67         3\n",
            "    weighted avg       0.83      0.67      0.67         3\n",
            "\n"
          ]
        }
      ]
    },
    {
      "cell_type": "markdown",
      "source": [
        "Estos resultados indican el rendimiento del modelo de clasificación que he entrenado.\n",
        "\n",
        "La \"Exactitud del modelo\" indica la proporción de predicciones correctas sobre el total de predicciones realizadas en el conjunto de prueba. En este caso, el modelo tiene una exactitud del 66.67%, lo que significa que clasificó correctamente el 66.67% de las instancias del conjunto de prueba.\n",
        "\n",
        "El \"Reporte de Clasificación\" proporciona una descripción más detallada del rendimiento del modelo para cada clase. Se divide en cuatro métricas principales:\n",
        "\n",
        "Precision: La proporción de instancias clasificadas como positivas (verdaderos positivos) entre todas las instancias clasificadas como positivas por el modelo.\n",
        "Recall: La proporción de instancias clasificadas como positivas (verdaderos positivos) entre todas las instancias que realmente son positivas en los datos.\n",
        "F1-score: Una medida ponderada de precision y recall, que equilibra ambas métricas. Es útil cuando las clases están desbalanceadas.\n",
        "Support: El número de instancias de cada clase en el conjunto de prueba.\n",
        "El modelo muestra buenos resultados en cuanto a precision y recall para ambas clases (\"pobreza_extrema\" y \"pobreza_moderada\"). Sin embargo, se debe tener en cuenta que estos resultados se basan en un conjunto de prueba muy pequeño (3 instancias), por lo que podrían no ser representativos del rendimiento real del modelo en datos más grandes y diversos."
      ],
      "metadata": {
        "id": "mHhWvGD81_lH"
      }
    }
  ]
}