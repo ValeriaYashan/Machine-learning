{
  "nbformat": 4,
  "nbformat_minor": 0,
  "metadata": {
    "colab": {
      "provenance": [],
      "authorship_tag": "ABX9TyPsiYtzrXRgSkvSmB+PPAJA",
      "include_colab_link": true
    },
    "kernelspec": {
      "name": "python3",
      "display_name": "Python 3"
    },
    "language_info": {
      "name": "python"
    }
  },
  "cells": [
    {
      "cell_type": "markdown",
      "metadata": {
        "id": "view-in-github",
        "colab_type": "text"
      },
      "source": [
        "<a href=\"https://colab.research.google.com/github/ValeriaYashan/Machine-learning/blob/main/Machine_learning_predicci%C3%B3n_de_acciones.ipynb\" target=\"_parent\"><img src=\"https://colab.research.google.com/assets/colab-badge.svg\" alt=\"Open In Colab\"/></a>"
      ]
    },
    {
      "cell_type": "markdown",
      "source": [
        " A COMPLETAR"
      ],
      "metadata": {
        "id": "cL1sXgdwjiJa"
      }
    },
    {
      "cell_type": "markdown",
      "source": [
        "\n",
        "El modelo de Random Forest aplicado al análisis fundamental de acciones intentaría predecir si el precio de una acción aumentará o disminuirá en el futuro en función de las características financieras históricas de la empresa. Estas características podrían incluir datos como el precio de cierre de la acción, el volumen de negociación, los ingresos de la empresa, el crecimiento de las ganancias, los ratios financieros, entre otros.\n",
        "\n",
        "Una vez entrenado el modelo con datos históricos que incluyen estas características y la dirección futura del precio de las acciones, el modelo puede ser utilizado para hacer predicciones sobre nuevos datos. Por ejemplo, si proporcionamos al modelo información sobre el precio de cierre de una acción, el volumen de negociación y otros datos financieros relevantes para un determinado día, el modelo puede predecir si el precio de esa acción aumentará o disminuirá en el próximo período de tiempo.\n",
        "\n",
        "Estas predicciones pueden ser útiles para los inversores y analistas financieros que desean tomar decisiones informadas sobre qué acciones comprar, vender o mantener en sus carteras. Sin embargo, es importante tener en cuenta que ningún modelo de machine learning es perfecto y siempre existe cierto nivel de incertidumbre asociado con las predicciones. Es por eso que es crucial realizar una evaluación cuidadosa del rendimiento del modelo y considerar otros factores antes de tomar decisiones de inversión basadas únicamente en las predicciones del modelo."
      ],
      "metadata": {
        "id": "L-KkrJY5jjcH"
      }
    },
    {
      "cell_type": "code",
      "source": [
        "# Importar las bibliotecas necesarias\n",
        "import pandas as pd\n",
        "import matplotlib.pyplot as plt\n",
        "from sklearn.ensemble import RandomForestClassifier\n",
        "from sklearn.model_selection import train_test_split\n",
        "from sklearn.ensemble import RandomForestRegressor\n",
        "from sklearn.metrics import mean_squared_error\n",
        "from sklearn.model_selection import train_test_split\n",
        "from sklearn.metrics import classification_report, confusion_matrix"
      ],
      "metadata": {
        "id": "CXzJg2mlmGqu"
      },
      "execution_count": null,
      "outputs": []
    },
    {
      "cell_type": "code",
      "source": [
        "from google.colab import files\n",
        "\n",
        "# Subir el archivo \"acciones\" desde tu computadora\n",
        "uploaded = files.upload()\n",
        "\n",
        "\n",
        "# Verificar que el archivo se haya cargado correctamente\n",
        "for filename in uploaded.keys():\n",
        "    print('El archivo \"{}\" se ha cargado correctamente.'.format(filename))\n",
        "\n",
        "# Cargar el archivo CSV de acciones\n",
        "df_acciones_con_nombres = pd.read_csv(filename)\n",
        "\n",
        "\n"
      ],
      "metadata": {
        "colab": {
          "base_uri": "https://localhost:8080/",
          "height": 89
        },
        "id": "eIbRjBCElkHR",
        "outputId": "72df8dd2-62f2-420f-aaae-76d3828f5f8e"
      },
      "execution_count": null,
      "outputs": [
        {
          "output_type": "display_data",
          "data": {
            "text/plain": [
              "<IPython.core.display.HTML object>"
            ],
            "text/html": [
              "\n",
              "     <input type=\"file\" id=\"files-6a523f2b-299b-434c-a0be-4b356266e026\" name=\"files[]\" multiple disabled\n",
              "        style=\"border:none\" />\n",
              "     <output id=\"result-6a523f2b-299b-434c-a0be-4b356266e026\">\n",
              "      Upload widget is only available when the cell has been executed in the\n",
              "      current browser session. Please rerun this cell to enable.\n",
              "      </output>\n",
              "      <script>// Copyright 2017 Google LLC\n",
              "//\n",
              "// Licensed under the Apache License, Version 2.0 (the \"License\");\n",
              "// you may not use this file except in compliance with the License.\n",
              "// You may obtain a copy of the License at\n",
              "//\n",
              "//      http://www.apache.org/licenses/LICENSE-2.0\n",
              "//\n",
              "// Unless required by applicable law or agreed to in writing, software\n",
              "// distributed under the License is distributed on an \"AS IS\" BASIS,\n",
              "// WITHOUT WARRANTIES OR CONDITIONS OF ANY KIND, either express or implied.\n",
              "// See the License for the specific language governing permissions and\n",
              "// limitations under the License.\n",
              "\n",
              "/**\n",
              " * @fileoverview Helpers for google.colab Python module.\n",
              " */\n",
              "(function(scope) {\n",
              "function span(text, styleAttributes = {}) {\n",
              "  const element = document.createElement('span');\n",
              "  element.textContent = text;\n",
              "  for (const key of Object.keys(styleAttributes)) {\n",
              "    element.style[key] = styleAttributes[key];\n",
              "  }\n",
              "  return element;\n",
              "}\n",
              "\n",
              "// Max number of bytes which will be uploaded at a time.\n",
              "const MAX_PAYLOAD_SIZE = 100 * 1024;\n",
              "\n",
              "function _uploadFiles(inputId, outputId) {\n",
              "  const steps = uploadFilesStep(inputId, outputId);\n",
              "  const outputElement = document.getElementById(outputId);\n",
              "  // Cache steps on the outputElement to make it available for the next call\n",
              "  // to uploadFilesContinue from Python.\n",
              "  outputElement.steps = steps;\n",
              "\n",
              "  return _uploadFilesContinue(outputId);\n",
              "}\n",
              "\n",
              "// This is roughly an async generator (not supported in the browser yet),\n",
              "// where there are multiple asynchronous steps and the Python side is going\n",
              "// to poll for completion of each step.\n",
              "// This uses a Promise to block the python side on completion of each step,\n",
              "// then passes the result of the previous step as the input to the next step.\n",
              "function _uploadFilesContinue(outputId) {\n",
              "  const outputElement = document.getElementById(outputId);\n",
              "  const steps = outputElement.steps;\n",
              "\n",
              "  const next = steps.next(outputElement.lastPromiseValue);\n",
              "  return Promise.resolve(next.value.promise).then((value) => {\n",
              "    // Cache the last promise value to make it available to the next\n",
              "    // step of the generator.\n",
              "    outputElement.lastPromiseValue = value;\n",
              "    return next.value.response;\n",
              "  });\n",
              "}\n",
              "\n",
              "/**\n",
              " * Generator function which is called between each async step of the upload\n",
              " * process.\n",
              " * @param {string} inputId Element ID of the input file picker element.\n",
              " * @param {string} outputId Element ID of the output display.\n",
              " * @return {!Iterable<!Object>} Iterable of next steps.\n",
              " */\n",
              "function* uploadFilesStep(inputId, outputId) {\n",
              "  const inputElement = document.getElementById(inputId);\n",
              "  inputElement.disabled = false;\n",
              "\n",
              "  const outputElement = document.getElementById(outputId);\n",
              "  outputElement.innerHTML = '';\n",
              "\n",
              "  const pickedPromise = new Promise((resolve) => {\n",
              "    inputElement.addEventListener('change', (e) => {\n",
              "      resolve(e.target.files);\n",
              "    });\n",
              "  });\n",
              "\n",
              "  const cancel = document.createElement('button');\n",
              "  inputElement.parentElement.appendChild(cancel);\n",
              "  cancel.textContent = 'Cancel upload';\n",
              "  const cancelPromise = new Promise((resolve) => {\n",
              "    cancel.onclick = () => {\n",
              "      resolve(null);\n",
              "    };\n",
              "  });\n",
              "\n",
              "  // Wait for the user to pick the files.\n",
              "  const files = yield {\n",
              "    promise: Promise.race([pickedPromise, cancelPromise]),\n",
              "    response: {\n",
              "      action: 'starting',\n",
              "    }\n",
              "  };\n",
              "\n",
              "  cancel.remove();\n",
              "\n",
              "  // Disable the input element since further picks are not allowed.\n",
              "  inputElement.disabled = true;\n",
              "\n",
              "  if (!files) {\n",
              "    return {\n",
              "      response: {\n",
              "        action: 'complete',\n",
              "      }\n",
              "    };\n",
              "  }\n",
              "\n",
              "  for (const file of files) {\n",
              "    const li = document.createElement('li');\n",
              "    li.append(span(file.name, {fontWeight: 'bold'}));\n",
              "    li.append(span(\n",
              "        `(${file.type || 'n/a'}) - ${file.size} bytes, ` +\n",
              "        `last modified: ${\n",
              "            file.lastModifiedDate ? file.lastModifiedDate.toLocaleDateString() :\n",
              "                                    'n/a'} - `));\n",
              "    const percent = span('0% done');\n",
              "    li.appendChild(percent);\n",
              "\n",
              "    outputElement.appendChild(li);\n",
              "\n",
              "    const fileDataPromise = new Promise((resolve) => {\n",
              "      const reader = new FileReader();\n",
              "      reader.onload = (e) => {\n",
              "        resolve(e.target.result);\n",
              "      };\n",
              "      reader.readAsArrayBuffer(file);\n",
              "    });\n",
              "    // Wait for the data to be ready.\n",
              "    let fileData = yield {\n",
              "      promise: fileDataPromise,\n",
              "      response: {\n",
              "        action: 'continue',\n",
              "      }\n",
              "    };\n",
              "\n",
              "    // Use a chunked sending to avoid message size limits. See b/62115660.\n",
              "    let position = 0;\n",
              "    do {\n",
              "      const length = Math.min(fileData.byteLength - position, MAX_PAYLOAD_SIZE);\n",
              "      const chunk = new Uint8Array(fileData, position, length);\n",
              "      position += length;\n",
              "\n",
              "      const base64 = btoa(String.fromCharCode.apply(null, chunk));\n",
              "      yield {\n",
              "        response: {\n",
              "          action: 'append',\n",
              "          file: file.name,\n",
              "          data: base64,\n",
              "        },\n",
              "      };\n",
              "\n",
              "      let percentDone = fileData.byteLength === 0 ?\n",
              "          100 :\n",
              "          Math.round((position / fileData.byteLength) * 100);\n",
              "      percent.textContent = `${percentDone}% done`;\n",
              "\n",
              "    } while (position < fileData.byteLength);\n",
              "  }\n",
              "\n",
              "  // All done.\n",
              "  yield {\n",
              "    response: {\n",
              "      action: 'complete',\n",
              "    }\n",
              "  };\n",
              "}\n",
              "\n",
              "scope.google = scope.google || {};\n",
              "scope.google.colab = scope.google.colab || {};\n",
              "scope.google.colab._files = {\n",
              "  _uploadFiles,\n",
              "  _uploadFilesContinue,\n",
              "};\n",
              "})(self);\n",
              "</script> "
            ]
          },
          "metadata": {}
        },
        {
          "output_type": "stream",
          "name": "stdout",
          "text": [
            "Saving Acciones_con_nombres.csv to Acciones_con_nombres (2).csv\n",
            "El archivo \"Acciones_con_nombres (2).csv\" se ha cargado correctamente.\n"
          ]
        }
      ]
    },
    {
      "cell_type": "code",
      "source": [
        "# Mostrar las primeras filas del DataFrame\n",
        "print(df_acciones_con_nombres.head())\n",
        "\n",
        "# Verificar nombres de columnas\n",
        "print(\"Nombres de columnas:\")\n",
        "print(df_acciones_con_nombres.columns)\n",
        "\n",
        "# Verificar tipos de datos\n",
        "print(\"\\nTipos de datos:\")\n",
        "print(df_acciones_con_nombres.dtypes)\n",
        "\n",
        "# Verificar valores nulos o faltantes\n",
        "print(\"\\nValores nulos:\")\n",
        "print(df_acciones_con_nombres.isnull().sum())\n",
        "\n",
        "# Verificar duplicados\n",
        "print(\"\\nDuplicados:\")\n",
        "print(df_acciones_con_nombres.duplicated().sum())\n",
        "\n",
        "# Normalización de datos (si es necesario)\n",
        "# Ejemplo de normalización min-max\n",
        "# df['columna_normalizada'] = (df_acciones['columna'] - df_acciones['columna'].min()) / (df_acciones['columna'].max() - df_acciones['columna'].min())\n",
        "\n"
      ],
      "metadata": {
        "colab": {
          "base_uri": "https://localhost:8080/"
        },
        "id": "dfarYsTElxYP",
        "outputId": "260f4795-ed0c-4bb4-a588-b5f1965d096e"
      },
      "execution_count": null,
      "outputs": [
        {
          "output_type": "stream",
          "name": "stdout",
          "text": [
            "         Fecha     Simbolo  Apertura    Máximo  Mínimo       Cierre  \\\n",
            "0  Instrumento       Fecha       NaN    Precio   Var %  Var Anual %   \n",
            "1        MOLA5  24/10/2019       NaN    219,50  -24,31        -0,20   \n",
            "2         MOLA  09/02/2024       NaN  26700,00    6,49         8,00   \n",
            "3        MOLI5  21/11/2019       NaN     35,00    0,00       -23,90   \n",
            "4           CL  08/04/2022       NaN   1000,00    0,00          NaN   \n",
            "\n",
            "   Cierre_Anterior Variación               Volumen  \n",
            "0              NaN     TIR %  Mod. Duration (años)  \n",
            "1              NaN       NaN                   NaN  \n",
            "2              NaN       NaN                   NaN  \n",
            "3              NaN       NaN                   NaN  \n",
            "4              NaN       NaN                   NaN  \n",
            "Nombres de columnas:\n",
            "Index(['Fecha', 'Simbolo', 'Apertura', 'Máximo', 'Mínimo', 'Cierre',\n",
            "       'Cierre_Anterior', 'Variación', 'Volumen'],\n",
            "      dtype='object')\n",
            "\n",
            "Tipos de datos:\n",
            "Fecha               object\n",
            "Simbolo             object\n",
            "Apertura           float64\n",
            "Máximo              object\n",
            "Mínimo              object\n",
            "Cierre              object\n",
            "Cierre_Anterior    float64\n",
            "Variación           object\n",
            "Volumen             object\n",
            "dtype: object\n",
            "\n",
            "Valores nulos:\n",
            "Fecha               0\n",
            "Simbolo             0\n",
            "Apertura           14\n",
            "Máximo              0\n",
            "Mínimo              0\n",
            "Cierre              1\n",
            "Cierre_Anterior    14\n",
            "Variación          13\n",
            "Volumen            13\n",
            "dtype: int64\n",
            "\n",
            "Duplicados:\n",
            "0\n"
          ]
        }
      ]
    },
    {
      "cell_type": "code",
      "source": [
        "# Crear el DataFrame con los datos proporcionados\n",
        "data = {\n",
        "    'Fecha': ['24/10/2019', '09/02/2024', '21/11/2019', '08/04/2022', '09/02/2024'],\n",
        "    'Simbolo': ['MOLA5', 'MOLA', 'MOLI5', 'CL', 'PAMP'],\n",
        "    'Apertura': [None, None, None, None, None],\n",
        "    'Máximo': [219.50, 26700.00, 35.00, 1000.00, 2198.45],\n",
        "    'Mínimo': [-24.31, 6.49, 0.00, 0.00, 0.04],\n",
        "    'Cierre': [-0.20, 8.00, -23.90, None, 3.57],\n",
        "    'Cierre_Anterior': [None, None, None, None, None],\n",
        "    'Variación': [None, None, None, None, None],\n",
        "    'Volumen': [None, None, None, None, None]\n",
        "}\n",
        "\n",
        "# Crear el DataFrame\n",
        "acciones_con_nombres = pd.DataFrame(data)\n",
        "\n",
        "# Eliminar la primera fila de descripción\n",
        "acciones_con_nombres = acciones_con_nombres.iloc[1:]\n",
        "\n",
        "# Convertir las columnas numéricas al tipo de datos adecuado\n",
        "columnas_numericas = ['Apertura', 'Máximo', 'Mínimo', 'Cierre', 'Cierre_Anterior', 'Variación', 'Volumen']\n",
        "acciones_con_nombres[columnas_numericas] = acciones_con_nombres[columnas_numericas].apply(pd.to_numeric, errors='coerce')\n",
        "\n",
        "# Verificar los primeros registros y las columnas\n",
        "print(acciones_con_nombres.head())\n",
        "print(acciones_con_nombres.info())"
      ],
      "metadata": {
        "colab": {
          "base_uri": "https://localhost:8080/"
        },
        "id": "8qJF7Ru-qvGF",
        "outputId": "a984f64c-67f6-4781-a10b-252e46688e4b"
      },
      "execution_count": null,
      "outputs": [
        {
          "output_type": "stream",
          "name": "stdout",
          "text": [
            "        Fecha Simbolo  Apertura    Máximo  Mínimo  Cierre  Cierre_Anterior  \\\n",
            "1  09/02/2024    MOLA       NaN  26700.00    6.49    8.00              NaN   \n",
            "2  21/11/2019   MOLI5       NaN     35.00    0.00  -23.90              NaN   \n",
            "3  08/04/2022      CL       NaN   1000.00    0.00     NaN              NaN   \n",
            "4  09/02/2024    PAMP       NaN   2198.45    0.04    3.57              NaN   \n",
            "\n",
            "   Variación  Volumen  \n",
            "1        NaN      NaN  \n",
            "2        NaN      NaN  \n",
            "3        NaN      NaN  \n",
            "4        NaN      NaN  \n",
            "<class 'pandas.core.frame.DataFrame'>\n",
            "RangeIndex: 4 entries, 1 to 4\n",
            "Data columns (total 9 columns):\n",
            " #   Column           Non-Null Count  Dtype  \n",
            "---  ------           --------------  -----  \n",
            " 0   Fecha            4 non-null      object \n",
            " 1   Simbolo          4 non-null      object \n",
            " 2   Apertura         0 non-null      float64\n",
            " 3   Máximo           4 non-null      float64\n",
            " 4   Mínimo           4 non-null      float64\n",
            " 5   Cierre           3 non-null      float64\n",
            " 6   Cierre_Anterior  0 non-null      float64\n",
            " 7   Variación        0 non-null      float64\n",
            " 8   Volumen          0 non-null      float64\n",
            "dtypes: float64(7), object(2)\n",
            "memory usage: 420.0+ bytes\n",
            "None\n"
          ]
        }
      ]
    },
    {
      "cell_type": "code",
      "source": [
        "# Definir las características (features) y la variable objetivo (target)\n",
        "X = acciones_con_nombres.drop(columns=['Fecha', 'Simbolo', 'Cierre'])\n",
        "y = acciones_con_nombres['Cierre']"
      ],
      "metadata": {
        "id": "OA3X417bq9ln"
      },
      "execution_count": null,
      "outputs": []
    },
    {
      "cell_type": "code",
      "source": [
        "# Dividir los datos en conjuntos de entrenamiento y prueba\n",
        "X_train, X_test, y_train, y_test = train_test_split(X, y, test_size=0.2, random_state=42)"
      ],
      "metadata": {
        "id": "ben0jiBSrA1L"
      },
      "execution_count": null,
      "outputs": []
    },
    {
      "cell_type": "code",
      "source": [
        "# Importar las bibliotecas necesarias\n",
        "import pandas as pd\n",
        "from sklearn.ensemble import RandomForestRegressor\n",
        "from sklearn.model_selection import train_test_split\n",
        "from sklearn.impute import SimpleImputer\n",
        "\n",
        "# Cargar los datos y dividirlos en características (X) y variable objetivo (y)\n",
        "# Aquí se asume que ya tienes cargados y divididos los datos de entrenamiento y prueba\n",
        "# X_train, X_test, y_train, y_test = train_test_split(X, y, test_size=0.2, random_state=42)\n",
        "\n",
        "# Inicializar el imputador para rellenar los valores NaN con la media de cada columna\n",
        "imputer = SimpleImputer(strategy='mean')\n",
        "\n",
        "# Imputar los valores faltantes en el conjunto de entrenamiento\n",
        "X_train_imputed = pd.DataFrame(imputer.fit_transform(X_train), columns=X_train.columns)\n",
        "\n",
        "# Eliminar las filas con valores NaN del conjunto de entrenamiento\n",
        "X_train_cleaned = X_train_imputed.dropna()\n",
        "y_train_cleaned = y_train[X_train_cleaned.index]\n",
        "\n",
        "# Obtener las columnas presentes en los datos imputados\n",
        "columns_in_imputed_data = X_train_cleaned.columns\n",
        "\n",
        "# Filtrar el conjunto de entrenamiento original para incluir solo las columnas presentes en los datos imputados\n",
        "X_train_filtered = X_train[columns_in_imputed_data]\n",
        "\n",
        "# Inicializar y entrenar el modelo de regresión con los datos limpios\n",
        "reg_model = RandomForestRegressor(n_estimators=100, random_state=42)\n",
        "reg_model.fit(X_train_filtered, y_train_cleaned)\n",
        "\n",
        "# Imprimir el puntaje de entrenamiento del modelo\n",
        "print(\"Puntaje de entrenamiento del modelo de regresión:\", reg_model.score(X_train_filtered, y_train_cleaned))"
      ],
      "metadata": {
        "colab": {
          "base_uri": "https://localhost:8080/",
          "height": 408
        },
        "id": "8QByhFXgrD2C",
        "outputId": "5145b251-460a-46c5-f3ba-61d60beea69b"
      },
      "execution_count": null,
      "outputs": [
        {
          "output_type": "error",
          "ename": "ValueError",
          "evalue": "Shape of passed values is (3, 2), indices imply (3, 6)",
          "traceback": [
            "\u001b[0;31m---------------------------------------------------------------------------\u001b[0m",
            "\u001b[0;31mValueError\u001b[0m                                Traceback (most recent call last)",
            "\u001b[0;32m<ipython-input-40-1d0d9073bf77>\u001b[0m in \u001b[0;36m<cell line: 15>\u001b[0;34m()\u001b[0m\n\u001b[1;32m     13\u001b[0m \u001b[0;34m\u001b[0m\u001b[0m\n\u001b[1;32m     14\u001b[0m \u001b[0;31m# Imputar los valores faltantes en el conjunto de entrenamiento\u001b[0m\u001b[0;34m\u001b[0m\u001b[0;34m\u001b[0m\u001b[0m\n\u001b[0;32m---> 15\u001b[0;31m \u001b[0mX_train_imputed\u001b[0m \u001b[0;34m=\u001b[0m \u001b[0mpd\u001b[0m\u001b[0;34m.\u001b[0m\u001b[0mDataFrame\u001b[0m\u001b[0;34m(\u001b[0m\u001b[0mimputer\u001b[0m\u001b[0;34m.\u001b[0m\u001b[0mfit_transform\u001b[0m\u001b[0;34m(\u001b[0m\u001b[0mX_train\u001b[0m\u001b[0;34m)\u001b[0m\u001b[0;34m,\u001b[0m \u001b[0mcolumns\u001b[0m\u001b[0;34m=\u001b[0m\u001b[0mX_train\u001b[0m\u001b[0;34m.\u001b[0m\u001b[0mcolumns\u001b[0m\u001b[0;34m)\u001b[0m\u001b[0;34m\u001b[0m\u001b[0;34m\u001b[0m\u001b[0m\n\u001b[0m\u001b[1;32m     16\u001b[0m \u001b[0;34m\u001b[0m\u001b[0m\n\u001b[1;32m     17\u001b[0m \u001b[0;31m# Eliminar las filas con valores NaN del conjunto de entrenamiento\u001b[0m\u001b[0;34m\u001b[0m\u001b[0;34m\u001b[0m\u001b[0m\n",
            "\u001b[0;32m/usr/local/lib/python3.10/dist-packages/pandas/core/frame.py\u001b[0m in \u001b[0;36m__init__\u001b[0;34m(self, data, index, columns, dtype, copy)\u001b[0m\n\u001b[1;32m    720\u001b[0m                 )\n\u001b[1;32m    721\u001b[0m             \u001b[0;32melse\u001b[0m\u001b[0;34m:\u001b[0m\u001b[0;34m\u001b[0m\u001b[0;34m\u001b[0m\u001b[0m\n\u001b[0;32m--> 722\u001b[0;31m                 mgr = ndarray_to_mgr(\n\u001b[0m\u001b[1;32m    723\u001b[0m                     \u001b[0mdata\u001b[0m\u001b[0;34m,\u001b[0m\u001b[0;34m\u001b[0m\u001b[0;34m\u001b[0m\u001b[0m\n\u001b[1;32m    724\u001b[0m                     \u001b[0mindex\u001b[0m\u001b[0;34m,\u001b[0m\u001b[0;34m\u001b[0m\u001b[0;34m\u001b[0m\u001b[0m\n",
            "\u001b[0;32m/usr/local/lib/python3.10/dist-packages/pandas/core/internals/construction.py\u001b[0m in \u001b[0;36mndarray_to_mgr\u001b[0;34m(values, index, columns, dtype, copy, typ)\u001b[0m\n\u001b[1;32m    347\u001b[0m     )\n\u001b[1;32m    348\u001b[0m \u001b[0;34m\u001b[0m\u001b[0m\n\u001b[0;32m--> 349\u001b[0;31m     \u001b[0m_check_values_indices_shape_match\u001b[0m\u001b[0;34m(\u001b[0m\u001b[0mvalues\u001b[0m\u001b[0;34m,\u001b[0m \u001b[0mindex\u001b[0m\u001b[0;34m,\u001b[0m \u001b[0mcolumns\u001b[0m\u001b[0;34m)\u001b[0m\u001b[0;34m\u001b[0m\u001b[0;34m\u001b[0m\u001b[0m\n\u001b[0m\u001b[1;32m    350\u001b[0m \u001b[0;34m\u001b[0m\u001b[0m\n\u001b[1;32m    351\u001b[0m     \u001b[0;32mif\u001b[0m \u001b[0mtyp\u001b[0m \u001b[0;34m==\u001b[0m \u001b[0;34m\"array\"\u001b[0m\u001b[0;34m:\u001b[0m\u001b[0;34m\u001b[0m\u001b[0;34m\u001b[0m\u001b[0m\n",
            "\u001b[0;32m/usr/local/lib/python3.10/dist-packages/pandas/core/internals/construction.py\u001b[0m in \u001b[0;36m_check_values_indices_shape_match\u001b[0;34m(values, index, columns)\u001b[0m\n\u001b[1;32m    418\u001b[0m         \u001b[0mpassed\u001b[0m \u001b[0;34m=\u001b[0m \u001b[0mvalues\u001b[0m\u001b[0;34m.\u001b[0m\u001b[0mshape\u001b[0m\u001b[0;34m\u001b[0m\u001b[0;34m\u001b[0m\u001b[0m\n\u001b[1;32m    419\u001b[0m         \u001b[0mimplied\u001b[0m \u001b[0;34m=\u001b[0m \u001b[0;34m(\u001b[0m\u001b[0mlen\u001b[0m\u001b[0;34m(\u001b[0m\u001b[0mindex\u001b[0m\u001b[0;34m)\u001b[0m\u001b[0;34m,\u001b[0m \u001b[0mlen\u001b[0m\u001b[0;34m(\u001b[0m\u001b[0mcolumns\u001b[0m\u001b[0;34m)\u001b[0m\u001b[0;34m)\u001b[0m\u001b[0;34m\u001b[0m\u001b[0;34m\u001b[0m\u001b[0m\n\u001b[0;32m--> 420\u001b[0;31m         \u001b[0;32mraise\u001b[0m \u001b[0mValueError\u001b[0m\u001b[0;34m(\u001b[0m\u001b[0;34mf\"Shape of passed values is {passed}, indices imply {implied}\"\u001b[0m\u001b[0;34m)\u001b[0m\u001b[0;34m\u001b[0m\u001b[0;34m\u001b[0m\u001b[0m\n\u001b[0m\u001b[1;32m    421\u001b[0m \u001b[0;34m\u001b[0m\u001b[0m\n\u001b[1;32m    422\u001b[0m \u001b[0;34m\u001b[0m\u001b[0m\n",
            "\u001b[0;31mValueError\u001b[0m: Shape of passed values is (3, 2), indices imply (3, 6)"
          ]
        }
      ]
    }
  ]
}