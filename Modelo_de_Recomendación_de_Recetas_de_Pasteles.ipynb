{
  "nbformat": 4,
  "nbformat_minor": 0,
  "metadata": {
    "colab": {
      "provenance": [],
      "authorship_tag": "ABX9TyNbZNQsgvQl1XFBUtFOpdYQ",
      "include_colab_link": true
    },
    "kernelspec": {
      "name": "python3",
      "display_name": "Python 3"
    },
    "language_info": {
      "name": "python"
    }
  },
  "cells": [
    {
      "cell_type": "markdown",
      "metadata": {
        "id": "view-in-github",
        "colab_type": "text"
      },
      "source": [
        "<a href=\"https://colab.research.google.com/github/ValeriaYashan/Machine-learning/blob/main/Modelo_de_Recomendaci%C3%B3n_de_Recetas_de_Pasteles.ipynb\" target=\"_parent\"><img src=\"https://colab.research.google.com/assets/colab-badge.svg\" alt=\"Open In Colab\"/></a>"
      ]
    },
    {
      "cell_type": "code",
      "execution_count": 58,
      "metadata": {
        "id": "c-z1_kOu2hbr"
      },
      "outputs": [],
      "source": [
        "# Importamos la clase NearestNeighbors de scikit-learn para implementar el algoritmo de vecinos más cercanos\n",
        "from sklearn.neighbors import NearestNeighbors\n",
        "# Importamos la biblioteca NumPy para el manejo de matrices y vectores\n",
        "import numpy as np\n",
        "# Importamos el módulo time para medir el tiempo de respuesta\n",
        "import time\n",
        "# Importamos la biblioteca IPython.display para mostrar imágenes en el notebook\n",
        "from IPython.display import display, Image"
      ]
    },
    {
      "cell_type": "code",
      "source": [
        "# ----------------- Paso 1: Preparación de los Datos -----------------\n",
        "\n",
        "# Ejemplo de datos de recetas de pasteles (ingredientes representados como vectores)\n",
        "recetas = np.array([\n",
        "    [0, 1, 1, 0, 0, 1, 1],   # Receta 1: Harina, azúcar, huevos, chocolate\n",
        "    [1, 0, 1, 1, 0, 1, 0],   # Receta 2: Harina, leche, huevos, azúcar\n",
        "    [1, 0, 1, 0, 1, 0, 1],   # Receta 3: Harina, leche, huevos, vainilla\n",
        "    [1, 1, 0, 0, 0, 1, 1],   # Receta 4: Harina, azúcar, chocolate\n",
        "    [0, 1, 0, 1, 1, 0, 1]    # Receta 5: Azúcar, leche, vainilla\n",
        "])\n",
        "\n",
        "# ----------------- Definición de los nombres de los ingredientes -----------------\n",
        "\n",
        "nombres_ingredientes = [\"Harina\", \"Azúcar\", \"Huevos\", \"Chocolate\", \"Leche\", \"Vainilla\", \"Canela\"]\n",
        "# ----------------- Definición de los pasos de preparación de las recetas -----------------\n",
        "\n",
        "pasos_preparacion = [\n",
        "    \"Precalienta el horno a 180°C.\",\n",
        "    \"En un bol grande, mezcla la harina, el azúcar y el chocolate.\",\n",
        "    \"Añade los huevos y mezcla hasta obtener una masa homogénea.\",\n",
        "    \"Vierte la masa en un molde engrasado y hornea durante 30 minutos.\",\n",
        "    \"Deja enfriar y sirve.\",\n",
        "    \"Precalienta el horno a 180°C.\",\n",
        "    \"En un bol grande, mezcla la harina, la leche y los huevos.\",\n",
        "    \"Añade el azúcar y mezcla bien.\",\n",
        "    \"Vierte la masa en un molde engrasado y hornea durante 40 minutos.\",\n",
        "    \"Deja enfriar y sirve.\",\n",
        "    \"Precalienta el horno a 180°C.\",\n",
        "    \"En un bol grande, mezcla la harina, la leche y los huevos.\",\n",
        "    \"Añade la vainilla y mezcla bien.\",\n",
        "    \"Vierte la masa en un molde engrasado y hornea durante 35 minutos.\",\n",
        "    \"Deja enfriar y sirve.\",\n",
        "    \"Precalienta el horno a 180°C.\",\n",
        "    \"En un bol grande, mezcla la harina, el azúcar y la vainilla.\",\n",
        "    \"Añade el chocolate y mezcla bien.\",\n",
        "    \"Vierte la masa en un molde engrasado y hornea durante 25 minutos.\",\n",
        "    \"Deja enfriar y sirve.\",\n",
        "    \"Precalienta el horno a 180°C.\",\n",
        "    \"En un bol grande, mezcla el azúcar y la leche.\",\n",
        "    \"Añade la vainilla y mezcla bien.\",\n",
        "    \"Vierte la masa en un molde engrasado y hornea durante 45 minutos.\",\n",
        "    \"Deja enfriar y sirve.\"\n",
        "]\n",
        "\n",
        "# ----------------- Definición de las rutas de las imágenes -----------------\n",
        "\n",
        "rutas_imagenes = [\n",
        "    \"https://via.placeholder.com/300\",  # Imagen de pastel 1\n",
        "    \"https://via.placeholder.com/300\",  # Imagen de pastel 2\n",
        "    \"https://via.placeholder.com/300\",  # Imagen de pastel 3\n",
        "    \"https://via.placeholder.com/300\",  # Imagen de pastel 4\n",
        "    \"https://via.placeholder.com/300\"   # Imagen de pastel 5\n",
        "]"
      ],
      "metadata": {
        "id": "A6kbCkb92v5r"
      },
      "execution_count": 59,
      "outputs": []
    },
    {
      "cell_type": "code",
      "source": [
        "# ----------------- Paso 2: Entrenamiento del Modelo -----------------\n",
        "\n",
        "# Creamos un modelo de vecinos más cercanos con 3 vecinos y utilizando el algoritmo 'ball_tree'\n",
        "modelo = NearestNeighbors(n_neighbors=3, algorithm='ball_tree')\n",
        "# Entrenamos el modelo con los datos de recetas\n",
        "modelo.fit(recetas)"
      ],
      "metadata": {
        "colab": {
          "base_uri": "https://localhost:8080/",
          "height": 75
        },
        "id": "zFbcK2U42zQ0",
        "outputId": "5e76743b-7dff-4802-c55e-3361da533c0f"
      },
      "execution_count": 60,
      "outputs": [
        {
          "output_type": "execute_result",
          "data": {
            "text/plain": [
              "NearestNeighbors(algorithm='ball_tree', n_neighbors=3)"
            ],
            "text/html": [
              "<style>#sk-container-id-7 {color: black;background-color: white;}#sk-container-id-7 pre{padding: 0;}#sk-container-id-7 div.sk-toggleable {background-color: white;}#sk-container-id-7 label.sk-toggleable__label {cursor: pointer;display: block;width: 100%;margin-bottom: 0;padding: 0.3em;box-sizing: border-box;text-align: center;}#sk-container-id-7 label.sk-toggleable__label-arrow:before {content: \"▸\";float: left;margin-right: 0.25em;color: #696969;}#sk-container-id-7 label.sk-toggleable__label-arrow:hover:before {color: black;}#sk-container-id-7 div.sk-estimator:hover label.sk-toggleable__label-arrow:before {color: black;}#sk-container-id-7 div.sk-toggleable__content {max-height: 0;max-width: 0;overflow: hidden;text-align: left;background-color: #f0f8ff;}#sk-container-id-7 div.sk-toggleable__content pre {margin: 0.2em;color: black;border-radius: 0.25em;background-color: #f0f8ff;}#sk-container-id-7 input.sk-toggleable__control:checked~div.sk-toggleable__content {max-height: 200px;max-width: 100%;overflow: auto;}#sk-container-id-7 input.sk-toggleable__control:checked~label.sk-toggleable__label-arrow:before {content: \"▾\";}#sk-container-id-7 div.sk-estimator input.sk-toggleable__control:checked~label.sk-toggleable__label {background-color: #d4ebff;}#sk-container-id-7 div.sk-label input.sk-toggleable__control:checked~label.sk-toggleable__label {background-color: #d4ebff;}#sk-container-id-7 input.sk-hidden--visually {border: 0;clip: rect(1px 1px 1px 1px);clip: rect(1px, 1px, 1px, 1px);height: 1px;margin: -1px;overflow: hidden;padding: 0;position: absolute;width: 1px;}#sk-container-id-7 div.sk-estimator {font-family: monospace;background-color: #f0f8ff;border: 1px dotted black;border-radius: 0.25em;box-sizing: border-box;margin-bottom: 0.5em;}#sk-container-id-7 div.sk-estimator:hover {background-color: #d4ebff;}#sk-container-id-7 div.sk-parallel-item::after {content: \"\";width: 100%;border-bottom: 1px solid gray;flex-grow: 1;}#sk-container-id-7 div.sk-label:hover label.sk-toggleable__label {background-color: #d4ebff;}#sk-container-id-7 div.sk-serial::before {content: \"\";position: absolute;border-left: 1px solid gray;box-sizing: border-box;top: 0;bottom: 0;left: 50%;z-index: 0;}#sk-container-id-7 div.sk-serial {display: flex;flex-direction: column;align-items: center;background-color: white;padding-right: 0.2em;padding-left: 0.2em;position: relative;}#sk-container-id-7 div.sk-item {position: relative;z-index: 1;}#sk-container-id-7 div.sk-parallel {display: flex;align-items: stretch;justify-content: center;background-color: white;position: relative;}#sk-container-id-7 div.sk-item::before, #sk-container-id-7 div.sk-parallel-item::before {content: \"\";position: absolute;border-left: 1px solid gray;box-sizing: border-box;top: 0;bottom: 0;left: 50%;z-index: -1;}#sk-container-id-7 div.sk-parallel-item {display: flex;flex-direction: column;z-index: 1;position: relative;background-color: white;}#sk-container-id-7 div.sk-parallel-item:first-child::after {align-self: flex-end;width: 50%;}#sk-container-id-7 div.sk-parallel-item:last-child::after {align-self: flex-start;width: 50%;}#sk-container-id-7 div.sk-parallel-item:only-child::after {width: 0;}#sk-container-id-7 div.sk-dashed-wrapped {border: 1px dashed gray;margin: 0 0.4em 0.5em 0.4em;box-sizing: border-box;padding-bottom: 0.4em;background-color: white;}#sk-container-id-7 div.sk-label label {font-family: monospace;font-weight: bold;display: inline-block;line-height: 1.2em;}#sk-container-id-7 div.sk-label-container {text-align: center;}#sk-container-id-7 div.sk-container {/* jupyter's `normalize.less` sets `[hidden] { display: none; }` but bootstrap.min.css set `[hidden] { display: none !important; }` so we also need the `!important` here to be able to override the default hidden behavior on the sphinx rendered scikit-learn.org. See: https://github.com/scikit-learn/scikit-learn/issues/21755 */display: inline-block !important;position: relative;}#sk-container-id-7 div.sk-text-repr-fallback {display: none;}</style><div id=\"sk-container-id-7\" class=\"sk-top-container\"><div class=\"sk-text-repr-fallback\"><pre>NearestNeighbors(algorithm=&#x27;ball_tree&#x27;, n_neighbors=3)</pre><b>In a Jupyter environment, please rerun this cell to show the HTML representation or trust the notebook. <br />On GitHub, the HTML representation is unable to render, please try loading this page with nbviewer.org.</b></div><div class=\"sk-container\" hidden><div class=\"sk-item\"><div class=\"sk-estimator sk-toggleable\"><input class=\"sk-toggleable__control sk-hidden--visually\" id=\"sk-estimator-id-7\" type=\"checkbox\" checked><label for=\"sk-estimator-id-7\" class=\"sk-toggleable__label sk-toggleable__label-arrow\">NearestNeighbors</label><div class=\"sk-toggleable__content\"><pre>NearestNeighbors(algorithm=&#x27;ball_tree&#x27;, n_neighbors=3)</pre></div></div></div></div></div>"
            ]
          },
          "metadata": {},
          "execution_count": 60
        }
      ]
    },
    {
      "cell_type": "code",
      "source": [
        "# ----------------- Paso 3: Función de Recomendación -----------------\n",
        "\n",
        "# Función para recomendar recetas basadas en ingredientes proporcionados\n",
        "def recomendar_recetas(ingredientes, k=3):\n",
        "    # Convertimos los ingredientes a un vector y lo redimensionamos\n",
        "    ingredientes = np.array(ingredientes).reshape(1, -1)\n",
        "    # Buscamos los k vecinos más cercanos a los ingredientes dados\n",
        "    distancias, indices = modelo.kneighbors(ingredientes, n_neighbors=k)\n",
        "    # Devolvemos los índices de las recetas recomendadas\n",
        "    return indices.flatten()\n"
      ],
      "metadata": {
        "id": "oYm7LP3N223q"
      },
      "execution_count": 61,
      "outputs": []
    },
    {
      "cell_type": "code",
      "source": [
        "# ----------------- Paso 4: Interacción con el Usuario -----------------\n",
        "\n",
        "# Solicitamos al usuario que ingrese sus ingredientes separados por comas\n",
        "ingredientes_usuario = input(\"Ingrese los ingredientes que tiene (separados por comas): \")\n",
        "# Convertimos los ingredientes ingresados por el usuario a una lista\n",
        "ingredientes_usuario = ingredientes_usuario.split(\",\")\n",
        "\n",
        "# Convertimos los ingredientes a valores numéricos utilizando One-Hot Encoding\n",
        "ingredientes_num = [0] * 7  # Inicializamos una lista de ceros para los ingredientes\n",
        "for ingrediente in ingredientes_usuario:\n",
        "    if ingrediente.strip().capitalize() in nombres_ingredientes:\n",
        "        indice = nombres_ingredientes.index(ingrediente.strip().capitalize())\n",
        "        ingredientes_num[indice] = 1  # Asignamos 1 al índice correspondiente\n"
      ],
      "metadata": {
        "colab": {
          "base_uri": "https://localhost:8080/"
        },
        "id": "14QSefh326w0",
        "outputId": "29942ff6-fb47-40d4-9b3e-58568758d1a5"
      },
      "execution_count": 62,
      "outputs": [
        {
          "name": "stdout",
          "output_type": "stream",
          "text": [
            "Ingrese los ingredientes que tiene (separados por comas): azucar\n"
          ]
        }
      ]
    },
    {
      "cell_type": "code",
      "source": [
        "# ----------------- Paso 5: Uso del Modelo y Evaluación -----------------\n",
        "\n",
        "# Medimos el tiempo de respuesta del modelo\n",
        "inicio_tiempo = time.time()\n",
        "# Obtenemos las recetas recomendadas para los ingredientes ingresados por el usuario\n",
        "recetas_recomendadas = recomendar_recetas(ingredientes_num)\n",
        "# Calculamos el tiempo de respuesta del modelo\n",
        "tiempo_respuesta = time.time() - inicio_tiempo"
      ],
      "metadata": {
        "id": "5Qb65eES3WYU"
      },
      "execution_count": 63,
      "outputs": []
    },
    {
      "cell_type": "code",
      "source": [
        "# ----------------- Paso 6: Resultados -----------------\n",
        "\n",
        "print(\"Recetas recomendadas:\")\n",
        "# Imprimimos las recetas recomendadas con sus ingredientes y pasos de preparación\n",
        "for i, receta_idx in enumerate(recetas_recomendadas):\n",
        "    print(f\"Receta {i+1}:\")\n",
        "    print(\"Ingredientes:\")\n",
        "    for j, ingrediente in enumerate(recetas[receta_idx]):\n",
        "        if ingrediente == 1:\n",
        "            print(f\"- {nombres_ingredientes[j]}\")\n",
        "    print(\"\\nPasos de preparación:\")\n",
        "    print(pasos_preparacion[receta_idx])\n",
        "    print()  # Agregamos una línea en blanco para separar las recetas"
      ],
      "metadata": {
        "colab": {
          "base_uri": "https://localhost:8080/"
        },
        "id": "LU92pd7m30dz",
        "outputId": "d5419ad2-5003-4dbb-9a72-c9d41f96fdef"
      },
      "execution_count": 69,
      "outputs": [
        {
          "output_type": "stream",
          "name": "stdout",
          "text": [
            "Recetas recomendadas:\n",
            "Receta 1:\n",
            "Ingredientes:\n",
            "- Harina\n",
            "- Huevos\n",
            "- Leche\n",
            "- Canela\n",
            "\n",
            "Pasos de preparación:\n",
            "Añade los huevos y mezcla hasta obtener una masa homogénea.\n",
            "\n",
            "Receta 2:\n",
            "Ingredientes:\n",
            "- Azúcar\n",
            "- Huevos\n",
            "- Vainilla\n",
            "- Canela\n",
            "\n",
            "Pasos de preparación:\n",
            "Precalienta el horno a 180°C.\n",
            "\n",
            "Receta 3:\n",
            "Ingredientes:\n",
            "- Harina\n",
            "- Huevos\n",
            "- Chocolate\n",
            "- Vainilla\n",
            "\n",
            "Pasos de preparación:\n",
            "En un bol grande, mezcla la harina, el azúcar y el chocolate.\n",
            "\n"
          ]
        }
      ]
    },
    {
      "cell_type": "code",
      "source": [
        "\n",
        "# ----------------- Evaluación del Modelo -----------------\n",
        "\n",
        "# Calculamos la precisión de las recomendaciones (para fines de demostración)\n",
        "precision = 3 / len(recetas_recomendadas)  # Se asume que se recomiendan 3 recetas en total\n",
        "\n",
        "# Imprimimos los resultados de la evaluación\n",
        "print(f\"\\nTiempo de respuesta del modelo: {tiempo_respuesta:.4f} segundos\")\n",
        "print(f\"Precisión de las recomendaciones: {precision:.2%}\")"
      ],
      "metadata": {
        "colab": {
          "base_uri": "https://localhost:8080/"
        },
        "id": "n7YG_krD32W7",
        "outputId": "712d4f22-ef89-46de-9f6b-34e0ca12bfe7"
      },
      "execution_count": 70,
      "outputs": [
        {
          "output_type": "stream",
          "name": "stdout",
          "text": [
            "\n",
            "Tiempo de respuesta del modelo: 0.0015 segundos\n",
            "Precisión de las recomendaciones: 100.00%\n"
          ]
        }
      ]
    }
  ]
}